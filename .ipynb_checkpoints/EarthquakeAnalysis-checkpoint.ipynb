{
 "cells": [
  {
   "cell_type": "markdown",
   "id": "0c1f9157",
   "metadata": {},
   "source": [
    "##  Importing necessary datasets and packages\n"
   ]
  },
  {
   "cell_type": "code",
   "execution_count": 1,
   "id": "3c123a3f",
   "metadata": {},
   "outputs": [],
   "source": [
    "#importing the required packages\n",
    "\n",
    "import pandas as pd\n",
    "import matplotlib.pyplot as plt\n",
    "import plotly.express as px\n",
    "import re\n",
    "\n",
    "pd.set_option('display.precision', 2)"
   ]
  },
  {
   "cell_type": "code",
   "execution_count": 2,
   "id": "3852995f",
   "metadata": {},
   "outputs": [],
   "source": [
    "#reading data from csv file to A dataframe\n",
    "columns = ['date', 'time', 'latitude', 'longitude', 'magnitude', 'remarks', 'epicenter' ]\n",
    "main_df = pd.read_csv('Datasets/earthquake_raw.csv')\n",
    "main_df.columns = columns"
   ]
  },
  {
   "cell_type": "markdown",
   "id": "da13a0ff",
   "metadata": {},
   "source": [
    "## Data Preprocessing\n"
   ]
  },
  {
   "cell_type": "code",
   "execution_count": 3,
   "id": "d238da59",
   "metadata": {},
   "outputs": [],
   "source": [
    "#getting rid of all leading and trailing whitespaces and lowering the alphabets\n",
    "main_df['epicenter'] = main_df['epicenter'].apply(lambda x: x.strip().lower())"
   ]
  },
  {
   "cell_type": "code",
   "execution_count": 4,
   "id": "b0730892",
   "metadata": {
    "scrolled": true
   },
   "outputs": [],
   "source": [
    "#datatype_conversion\n",
    "main_df['latitude'] = pd.to_numeric(main_df['latitude'])\n",
    "main_df['longitude'] = pd.to_numeric(main_df['longitude'])\n",
    "main_df['magnitude'] = pd.to_numeric(main_df['magnitude'])\n",
    "\n"
   ]
  },
  {
   "cell_type": "code",
   "execution_count": 5,
   "id": "0a0974aa",
   "metadata": {},
   "outputs": [],
   "source": [
    "def seperate(date):\n",
    "    \"\"\"\n",
    "    Takes in the date(which is in concatenated format of both AD and BS) and return only the\n",
    "    AD date\n",
    "    \"\"\"\n",
    "    \n",
    "    pattern = r'A\\.D:(.*)'\n",
    "    match = re.search(pattern, date)\n",
    "    if match:\n",
    "        result = match.group(1)\n",
    "        return result\n",
    "    return date\n",
    "\n",
    "def extract_time(timestamp):\n",
    "    \"\"\"\n",
    "    Removes the timezone information and extract only the hour and minute data from the string timestamp.\n",
    "    \"\"\"\n",
    "    pattern = r'Local:(\\d{2}:\\d{2}) UTC:\\d{2}:\\d{2}'\n",
    "    match = re.search(pattern, timestamp)\n",
    "    if match:\n",
    "        local_time = match.group(1)\n",
    "        return local_time\n",
    "    return timestamp\n",
    "    "
   ]
  },
  {
   "cell_type": "code",
   "execution_count": 6,
   "id": "617f4de0",
   "metadata": {},
   "outputs": [],
   "source": [
    "#converts the date column to datetime format\n",
    "\n",
    "main_df['date'] = main_df['date'].apply(seperate)\n",
    "main_df['time'] = main_df['time'].apply(extract_time)\n",
    "main_df['date'] = pd.to_datetime(main_df['date'])\n"
   ]
  },
  {
   "cell_type": "code",
   "execution_count": 7,
   "id": "db88b2d0",
   "metadata": {},
   "outputs": [],
   "source": [
    "#exporting the cleaned data to a csv file for further analysis\n",
    "\n",
    "main_df.to_csv(\"Datasets/earthquake_clean.csv\", index=False)"
   ]
  },
  {
   "cell_type": "markdown",
   "id": "b8e5bdce",
   "metadata": {},
   "source": [
    "## Exploratory Data Analysis\n"
   ]
  },
  {
   "cell_type": "code",
   "execution_count": 8,
   "id": "fe47b3d6",
   "metadata": {},
   "outputs": [
    {
     "data": {
      "text/plain": [
       "date         False\n",
       "time         False\n",
       "latitude     False\n",
       "longitude    False\n",
       "magnitude    False\n",
       "remarks      False\n",
       "epicenter    False\n",
       "dtype: bool"
      ]
     },
     "execution_count": 8,
     "metadata": {},
     "output_type": "execute_result"
    }
   ],
   "source": [
    "#checking if there's any null values\n",
    "main_df.isna().any()"
   ]
  },
  {
   "cell_type": "code",
   "execution_count": 9,
   "id": "e5c0541a",
   "metadata": {},
   "outputs": [
    {
     "data": {
      "text/plain": [
       "False"
      ]
     },
     "execution_count": 9,
     "metadata": {},
     "output_type": "execute_result"
    }
   ],
   "source": [
    "##checking if there's any duplicates\n",
    "main_df.duplicated().any()"
   ]
  },
  {
   "cell_type": "code",
   "execution_count": 10,
   "id": "1b8b950b",
   "metadata": {},
   "outputs": [
    {
     "name": "stdout",
     "output_type": "stream",
     "text": [
      "<class 'pandas.core.frame.DataFrame'>\n",
      "RangeIndex: 740 entries, 0 to 739\n",
      "Data columns (total 7 columns):\n",
      " #   Column     Non-Null Count  Dtype         \n",
      "---  ------     --------------  -----         \n",
      " 0   date       740 non-null    datetime64[ns]\n",
      " 1   time       740 non-null    object        \n",
      " 2   latitude   740 non-null    float64       \n",
      " 3   longitude  740 non-null    float64       \n",
      " 4   magnitude  740 non-null    float64       \n",
      " 5   remarks    740 non-null    object        \n",
      " 6   epicenter  740 non-null    object        \n",
      "dtypes: datetime64[ns](1), float64(3), object(3)\n",
      "memory usage: 40.6+ KB\n"
     ]
    }
   ],
   "source": [
    "# check the data type \n",
    "main_df.info()"
   ]
  },
  {
   "cell_type": "code",
   "execution_count": 11,
   "id": "3a3016d6",
   "metadata": {},
   "outputs": [
    {
     "data": {
      "text/plain": [
       "count    740.00\n",
       "mean       4.40\n",
       "std        0.47\n",
       "min        4.00\n",
       "25%        4.10\n",
       "50%        4.20\n",
       "75%        4.60\n",
       "max        7.60\n",
       "Name: magnitude, dtype: float64"
      ]
     },
     "execution_count": 11,
     "metadata": {},
     "output_type": "execute_result"
    }
   ],
   "source": [
    "#lets quickly run the basic descriptive statistics on magnitude column\n",
    "main_df['magnitude'].describe()"
   ]
  },
  {
   "cell_type": "code",
   "execution_count": 12,
   "id": "bbe87751",
   "metadata": {},
   "outputs": [],
   "source": [
    "#740 earthquake were felt in period of 8 years and the average magnitude is 4.4 with standard deviation 0.47\n",
    "#median is magnitude of 4.2 and it is suggested that the 3rd quartile is 4.6."
   ]
  },
  {
   "cell_type": "code",
   "execution_count": 13,
   "id": "589c1a09",
   "metadata": {},
   "outputs": [],
   "source": [
    "#lets check how many earthquakes are above 5 magnitude"
   ]
  },
  {
   "cell_type": "code",
   "execution_count": 30,
   "id": "bed06a17",
   "metadata": {},
   "outputs": [
    {
     "data": {
      "text/plain": [
       "69"
      ]
     },
     "execution_count": 30,
     "metadata": {},
     "output_type": "execute_result"
    }
   ],
   "source": [
    "filter = main_df['magnitude'] > 5\n",
    "over_five = main_df[filter]\n",
    "len(over_five)"
   ]
  },
  {
   "cell_type": "code",
   "execution_count": 52,
   "id": "49bd35e4",
   "metadata": {},
   "outputs": [
    {
     "data": {
      "text/plain": [
       "date\n",
       "2015    42\n",
       "2016     4\n",
       "2017     2\n",
       "2019     3\n",
       "2020     2\n",
       "2021     5\n",
       "2022     7\n",
       "2023     4\n",
       "dtype: int64"
      ]
     },
     "execution_count": 52,
     "metadata": {},
     "output_type": "execute_result"
    }
   ],
   "source": [
    "#lets check the frequency of magnitude over five for every year \n",
    "over_five_grouped = over_five.groupby(over_five['date'].dt.year).size()\n",
    "over_five_grouped"
   ]
  },
  {
   "cell_type": "code",
   "execution_count": 50,
   "id": "40fad566",
   "metadata": {},
   "outputs": [],
   "source": [
    "#lets categorize the earthquake based on magnitude, earthquakes below 4 are type 1, earthquake between 4 and 5 are type 2\n",
    "#and earthquakes above 5 are type three\n",
    "\n",
    "categorised_eq = main_df.copy()\n",
    "\n",
    "magnitude_bins = [4,4.5, 5, 5.5, float('inf')]\n",
    "magnitude_labels = ['type1', 'type2', 'type3', 'type4']\n",
    "categorised_eq['type'] = pd.cut(categorised_eq['magnitude'], bins=magnitude_bins, labels=magnitude_labels, right=False)\n",
    "ceq = categorised_eq.groupby('type').size()"
   ]
  },
  {
   "cell_type": "code",
   "execution_count": 76,
   "id": "42ac95f5",
   "metadata": {},
   "outputs": [],
   "source": [
    "#frequency of all magnitude by year\n",
    "freq_by_year = categorised_eq.groupby([categorised_eq['date'].dt.year, 'type']).size().reset_index(name='frequency')\n"
   ]
  },
  {
   "cell_type": "markdown",
   "id": "2704e328",
   "metadata": {},
   "source": [
    "<h1>Visualization</h1>"
   ]
  },
  {
   "cell_type": "code",
   "execution_count": null,
   "id": "8c9139b7",
   "metadata": {},
   "outputs": [],
   "source": []
  },
  {
   "cell_type": "code",
   "execution_count": null,
   "id": "1999fb9c",
   "metadata": {},
   "outputs": [],
   "source": [
    "#visualizing earthquake frequency by year"
   ]
  },
  {
   "cell_type": "code",
   "execution_count": 66,
   "id": "379dce05",
   "metadata": {},
   "outputs": [],
   "source": [
    "new_names = {'type1': '<4.5',\n",
    "            'type2': '>=4.5 and <5',\n",
    "            'type3': '>=5 and <5.5',\n",
    "            'type4': '>=5.5'}\n",
    "\n"
   ]
  },
  {
   "cell_type": "code",
   "execution_count": 67,
   "id": "1202fa6f",
   "metadata": {},
   "outputs": [
    {
     "data": {
      "application/vnd.plotly.v1+json": {
       "config": {
        "plotlyServerURL": "https://plot.ly"
       },
       "data": [
        {
         "alignmentgroup": "True",
         "hovertemplate": "type=<4.5<br>date=%{x}<br>frequency=%{y}<extra></extra>",
         "legendgroup": "<4.5",
         "marker": {
          "color": "#636efa",
          "pattern": {
           "shape": ""
          }
         },
         "name": "<4.5",
         "offsetgroup": "type1",
         "orientation": "v",
         "showlegend": true,
         "textposition": "auto",
         "type": "bar",
         "x": [
          2015,
          2016,
          2017,
          2018,
          2019,
          2020,
          2021,
          2022,
          2023
         ],
         "xaxis": "x",
         "y": [
          302,
          47,
          17,
          18,
          25,
          15,
          23,
          22,
          25
         ],
         "yaxis": "y"
        },
        {
         "alignmentgroup": "True",
         "hovertemplate": "type=>=4.5 and <5<br>date=%{x}<br>frequency=%{y}<extra></extra>",
         "legendgroup": ">=4.5 and <5",
         "marker": {
          "color": "#EF553B",
          "pattern": {
           "shape": ""
          }
         },
         "name": ">=4.5 and <5",
         "offsetgroup": "type2",
         "orientation": "v",
         "showlegend": true,
         "textposition": "auto",
         "type": "bar",
         "x": [
          2015,
          2016,
          2017,
          2018,
          2019,
          2020,
          2021,
          2022,
          2023
         ],
         "xaxis": "x",
         "y": [
          83,
          13,
          8,
          9,
          16,
          6,
          6,
          9,
          6
         ],
         "yaxis": "y"
        },
        {
         "alignmentgroup": "True",
         "hovertemplate": "type=>=5 and <5.5<br>date=%{x}<br>frequency=%{y}<extra></extra>",
         "legendgroup": ">=5 and <5.5",
         "marker": {
          "color": "#00cc96",
          "pattern": {
           "shape": ""
          }
         },
         "name": ">=5 and <5.5",
         "offsetgroup": "type3",
         "orientation": "v",
         "showlegend": true,
         "textposition": "auto",
         "type": "bar",
         "x": [
          2015,
          2016,
          2017,
          2018,
          2019,
          2020,
          2021,
          2022,
          2023
         ],
         "xaxis": "x",
         "y": [
          39,
          2,
          2,
          1,
          5,
          3,
          3,
          3,
          2
         ],
         "yaxis": "y"
        },
        {
         "alignmentgroup": "True",
         "hovertemplate": "type=>=5.5<br>date=%{x}<br>frequency=%{y}<extra></extra>",
         "legendgroup": ">=5.5",
         "marker": {
          "color": "#ab63fa",
          "pattern": {
           "shape": ""
          }
         },
         "name": ">=5.5",
         "offsetgroup": "type4",
         "orientation": "v",
         "showlegend": true,
         "textposition": "auto",
         "type": "bar",
         "x": [
          2015,
          2016,
          2017,
          2018,
          2019,
          2020,
          2021,
          2022,
          2023
         ],
         "xaxis": "x",
         "y": [
          17,
          3,
          0,
          0,
          1,
          1,
          2,
          4,
          2
         ],
         "yaxis": "y"
        }
       ],
       "layout": {
        "barmode": "stack",
        "legend": {
         "title": {
          "text": "type"
         },
         "tracegroupgap": 0
        },
        "margin": {
         "b": 50,
         "l": 50,
         "r": 50,
         "t": 25
        },
        "template": {
         "data": {
          "bar": [
           {
            "error_x": {
             "color": "#2a3f5f"
            },
            "error_y": {
             "color": "#2a3f5f"
            },
            "marker": {
             "line": {
              "color": "#E5ECF6",
              "width": 0.5
             },
             "pattern": {
              "fillmode": "overlay",
              "size": 10,
              "solidity": 0.2
             }
            },
            "type": "bar"
           }
          ],
          "barpolar": [
           {
            "marker": {
             "line": {
              "color": "#E5ECF6",
              "width": 0.5
             },
             "pattern": {
              "fillmode": "overlay",
              "size": 10,
              "solidity": 0.2
             }
            },
            "type": "barpolar"
           }
          ],
          "carpet": [
           {
            "aaxis": {
             "endlinecolor": "#2a3f5f",
             "gridcolor": "white",
             "linecolor": "white",
             "minorgridcolor": "white",
             "startlinecolor": "#2a3f5f"
            },
            "baxis": {
             "endlinecolor": "#2a3f5f",
             "gridcolor": "white",
             "linecolor": "white",
             "minorgridcolor": "white",
             "startlinecolor": "#2a3f5f"
            },
            "type": "carpet"
           }
          ],
          "choropleth": [
           {
            "colorbar": {
             "outlinewidth": 0,
             "ticks": ""
            },
            "type": "choropleth"
           }
          ],
          "contour": [
           {
            "colorbar": {
             "outlinewidth": 0,
             "ticks": ""
            },
            "colorscale": [
             [
              0,
              "#0d0887"
             ],
             [
              0.1111111111111111,
              "#46039f"
             ],
             [
              0.2222222222222222,
              "#7201a8"
             ],
             [
              0.3333333333333333,
              "#9c179e"
             ],
             [
              0.4444444444444444,
              "#bd3786"
             ],
             [
              0.5555555555555556,
              "#d8576b"
             ],
             [
              0.6666666666666666,
              "#ed7953"
             ],
             [
              0.7777777777777778,
              "#fb9f3a"
             ],
             [
              0.8888888888888888,
              "#fdca26"
             ],
             [
              1,
              "#f0f921"
             ]
            ],
            "type": "contour"
           }
          ],
          "contourcarpet": [
           {
            "colorbar": {
             "outlinewidth": 0,
             "ticks": ""
            },
            "type": "contourcarpet"
           }
          ],
          "heatmap": [
           {
            "colorbar": {
             "outlinewidth": 0,
             "ticks": ""
            },
            "colorscale": [
             [
              0,
              "#0d0887"
             ],
             [
              0.1111111111111111,
              "#46039f"
             ],
             [
              0.2222222222222222,
              "#7201a8"
             ],
             [
              0.3333333333333333,
              "#9c179e"
             ],
             [
              0.4444444444444444,
              "#bd3786"
             ],
             [
              0.5555555555555556,
              "#d8576b"
             ],
             [
              0.6666666666666666,
              "#ed7953"
             ],
             [
              0.7777777777777778,
              "#fb9f3a"
             ],
             [
              0.8888888888888888,
              "#fdca26"
             ],
             [
              1,
              "#f0f921"
             ]
            ],
            "type": "heatmap"
           }
          ],
          "heatmapgl": [
           {
            "colorbar": {
             "outlinewidth": 0,
             "ticks": ""
            },
            "colorscale": [
             [
              0,
              "#0d0887"
             ],
             [
              0.1111111111111111,
              "#46039f"
             ],
             [
              0.2222222222222222,
              "#7201a8"
             ],
             [
              0.3333333333333333,
              "#9c179e"
             ],
             [
              0.4444444444444444,
              "#bd3786"
             ],
             [
              0.5555555555555556,
              "#d8576b"
             ],
             [
              0.6666666666666666,
              "#ed7953"
             ],
             [
              0.7777777777777778,
              "#fb9f3a"
             ],
             [
              0.8888888888888888,
              "#fdca26"
             ],
             [
              1,
              "#f0f921"
             ]
            ],
            "type": "heatmapgl"
           }
          ],
          "histogram": [
           {
            "marker": {
             "pattern": {
              "fillmode": "overlay",
              "size": 10,
              "solidity": 0.2
             }
            },
            "type": "histogram"
           }
          ],
          "histogram2d": [
           {
            "colorbar": {
             "outlinewidth": 0,
             "ticks": ""
            },
            "colorscale": [
             [
              0,
              "#0d0887"
             ],
             [
              0.1111111111111111,
              "#46039f"
             ],
             [
              0.2222222222222222,
              "#7201a8"
             ],
             [
              0.3333333333333333,
              "#9c179e"
             ],
             [
              0.4444444444444444,
              "#bd3786"
             ],
             [
              0.5555555555555556,
              "#d8576b"
             ],
             [
              0.6666666666666666,
              "#ed7953"
             ],
             [
              0.7777777777777778,
              "#fb9f3a"
             ],
             [
              0.8888888888888888,
              "#fdca26"
             ],
             [
              1,
              "#f0f921"
             ]
            ],
            "type": "histogram2d"
           }
          ],
          "histogram2dcontour": [
           {
            "colorbar": {
             "outlinewidth": 0,
             "ticks": ""
            },
            "colorscale": [
             [
              0,
              "#0d0887"
             ],
             [
              0.1111111111111111,
              "#46039f"
             ],
             [
              0.2222222222222222,
              "#7201a8"
             ],
             [
              0.3333333333333333,
              "#9c179e"
             ],
             [
              0.4444444444444444,
              "#bd3786"
             ],
             [
              0.5555555555555556,
              "#d8576b"
             ],
             [
              0.6666666666666666,
              "#ed7953"
             ],
             [
              0.7777777777777778,
              "#fb9f3a"
             ],
             [
              0.8888888888888888,
              "#fdca26"
             ],
             [
              1,
              "#f0f921"
             ]
            ],
            "type": "histogram2dcontour"
           }
          ],
          "mesh3d": [
           {
            "colorbar": {
             "outlinewidth": 0,
             "ticks": ""
            },
            "type": "mesh3d"
           }
          ],
          "parcoords": [
           {
            "line": {
             "colorbar": {
              "outlinewidth": 0,
              "ticks": ""
             }
            },
            "type": "parcoords"
           }
          ],
          "pie": [
           {
            "automargin": true,
            "type": "pie"
           }
          ],
          "scatter": [
           {
            "fillpattern": {
             "fillmode": "overlay",
             "size": 10,
             "solidity": 0.2
            },
            "type": "scatter"
           }
          ],
          "scatter3d": [
           {
            "line": {
             "colorbar": {
              "outlinewidth": 0,
              "ticks": ""
             }
            },
            "marker": {
             "colorbar": {
              "outlinewidth": 0,
              "ticks": ""
             }
            },
            "type": "scatter3d"
           }
          ],
          "scattercarpet": [
           {
            "marker": {
             "colorbar": {
              "outlinewidth": 0,
              "ticks": ""
             }
            },
            "type": "scattercarpet"
           }
          ],
          "scattergeo": [
           {
            "marker": {
             "colorbar": {
              "outlinewidth": 0,
              "ticks": ""
             }
            },
            "type": "scattergeo"
           }
          ],
          "scattergl": [
           {
            "marker": {
             "colorbar": {
              "outlinewidth": 0,
              "ticks": ""
             }
            },
            "type": "scattergl"
           }
          ],
          "scattermapbox": [
           {
            "marker": {
             "colorbar": {
              "outlinewidth": 0,
              "ticks": ""
             }
            },
            "type": "scattermapbox"
           }
          ],
          "scatterpolar": [
           {
            "marker": {
             "colorbar": {
              "outlinewidth": 0,
              "ticks": ""
             }
            },
            "type": "scatterpolar"
           }
          ],
          "scatterpolargl": [
           {
            "marker": {
             "colorbar": {
              "outlinewidth": 0,
              "ticks": ""
             }
            },
            "type": "scatterpolargl"
           }
          ],
          "scatterternary": [
           {
            "marker": {
             "colorbar": {
              "outlinewidth": 0,
              "ticks": ""
             }
            },
            "type": "scatterternary"
           }
          ],
          "surface": [
           {
            "colorbar": {
             "outlinewidth": 0,
             "ticks": ""
            },
            "colorscale": [
             [
              0,
              "#0d0887"
             ],
             [
              0.1111111111111111,
              "#46039f"
             ],
             [
              0.2222222222222222,
              "#7201a8"
             ],
             [
              0.3333333333333333,
              "#9c179e"
             ],
             [
              0.4444444444444444,
              "#bd3786"
             ],
             [
              0.5555555555555556,
              "#d8576b"
             ],
             [
              0.6666666666666666,
              "#ed7953"
             ],
             [
              0.7777777777777778,
              "#fb9f3a"
             ],
             [
              0.8888888888888888,
              "#fdca26"
             ],
             [
              1,
              "#f0f921"
             ]
            ],
            "type": "surface"
           }
          ],
          "table": [
           {
            "cells": {
             "fill": {
              "color": "#EBF0F8"
             },
             "line": {
              "color": "white"
             }
            },
            "header": {
             "fill": {
              "color": "#C8D4E3"
             },
             "line": {
              "color": "white"
             }
            },
            "type": "table"
           }
          ]
         },
         "layout": {
          "annotationdefaults": {
           "arrowcolor": "#2a3f5f",
           "arrowhead": 0,
           "arrowwidth": 1
          },
          "autotypenumbers": "strict",
          "coloraxis": {
           "colorbar": {
            "outlinewidth": 0,
            "ticks": ""
           }
          },
          "colorscale": {
           "diverging": [
            [
             0,
             "#8e0152"
            ],
            [
             0.1,
             "#c51b7d"
            ],
            [
             0.2,
             "#de77ae"
            ],
            [
             0.3,
             "#f1b6da"
            ],
            [
             0.4,
             "#fde0ef"
            ],
            [
             0.5,
             "#f7f7f7"
            ],
            [
             0.6,
             "#e6f5d0"
            ],
            [
             0.7,
             "#b8e186"
            ],
            [
             0.8,
             "#7fbc41"
            ],
            [
             0.9,
             "#4d9221"
            ],
            [
             1,
             "#276419"
            ]
           ],
           "sequential": [
            [
             0,
             "#0d0887"
            ],
            [
             0.1111111111111111,
             "#46039f"
            ],
            [
             0.2222222222222222,
             "#7201a8"
            ],
            [
             0.3333333333333333,
             "#9c179e"
            ],
            [
             0.4444444444444444,
             "#bd3786"
            ],
            [
             0.5555555555555556,
             "#d8576b"
            ],
            [
             0.6666666666666666,
             "#ed7953"
            ],
            [
             0.7777777777777778,
             "#fb9f3a"
            ],
            [
             0.8888888888888888,
             "#fdca26"
            ],
            [
             1,
             "#f0f921"
            ]
           ],
           "sequentialminus": [
            [
             0,
             "#0d0887"
            ],
            [
             0.1111111111111111,
             "#46039f"
            ],
            [
             0.2222222222222222,
             "#7201a8"
            ],
            [
             0.3333333333333333,
             "#9c179e"
            ],
            [
             0.4444444444444444,
             "#bd3786"
            ],
            [
             0.5555555555555556,
             "#d8576b"
            ],
            [
             0.6666666666666666,
             "#ed7953"
            ],
            [
             0.7777777777777778,
             "#fb9f3a"
            ],
            [
             0.8888888888888888,
             "#fdca26"
            ],
            [
             1,
             "#f0f921"
            ]
           ]
          },
          "colorway": [
           "#636efa",
           "#EF553B",
           "#00cc96",
           "#ab63fa",
           "#FFA15A",
           "#19d3f3",
           "#FF6692",
           "#B6E880",
           "#FF97FF",
           "#FECB52"
          ],
          "font": {
           "color": "#2a3f5f"
          },
          "geo": {
           "bgcolor": "white",
           "lakecolor": "white",
           "landcolor": "#E5ECF6",
           "showlakes": true,
           "showland": true,
           "subunitcolor": "white"
          },
          "hoverlabel": {
           "align": "left"
          },
          "hovermode": "closest",
          "mapbox": {
           "style": "light"
          },
          "paper_bgcolor": "white",
          "plot_bgcolor": "#E5ECF6",
          "polar": {
           "angularaxis": {
            "gridcolor": "white",
            "linecolor": "white",
            "ticks": ""
           },
           "bgcolor": "#E5ECF6",
           "radialaxis": {
            "gridcolor": "white",
            "linecolor": "white",
            "ticks": ""
           }
          },
          "scene": {
           "xaxis": {
            "backgroundcolor": "#E5ECF6",
            "gridcolor": "white",
            "gridwidth": 2,
            "linecolor": "white",
            "showbackground": true,
            "ticks": "",
            "zerolinecolor": "white"
           },
           "yaxis": {
            "backgroundcolor": "#E5ECF6",
            "gridcolor": "white",
            "gridwidth": 2,
            "linecolor": "white",
            "showbackground": true,
            "ticks": "",
            "zerolinecolor": "white"
           },
           "zaxis": {
            "backgroundcolor": "#E5ECF6",
            "gridcolor": "white",
            "gridwidth": 2,
            "linecolor": "white",
            "showbackground": true,
            "ticks": "",
            "zerolinecolor": "white"
           }
          },
          "shapedefaults": {
           "line": {
            "color": "#2a3f5f"
           }
          },
          "ternary": {
           "aaxis": {
            "gridcolor": "white",
            "linecolor": "white",
            "ticks": ""
           },
           "baxis": {
            "gridcolor": "white",
            "linecolor": "white",
            "ticks": ""
           },
           "bgcolor": "#E5ECF6",
           "caxis": {
            "gridcolor": "white",
            "linecolor": "white",
            "ticks": ""
           }
          },
          "title": {
           "x": 0.05
          },
          "xaxis": {
           "automargin": true,
           "gridcolor": "white",
           "linecolor": "white",
           "ticks": "",
           "title": {
            "standoff": 15
           },
           "zerolinecolor": "white",
           "zerolinewidth": 2
          },
          "yaxis": {
           "automargin": true,
           "gridcolor": "white",
           "linecolor": "white",
           "ticks": "",
           "title": {
            "standoff": 15
           },
           "zerolinecolor": "white",
           "zerolinewidth": 2
          }
         }
        },
        "title": {
         "text": "Stacked bar chart of earthquake type by year",
         "x": 0.5
        },
        "xaxis": {
         "anchor": "y",
         "domain": [
          0,
          1
         ],
         "title": {
          "text": "date"
         }
        },
        "yaxis": {
         "anchor": "x",
         "domain": [
          0,
          1
         ],
         "title": {
          "text": "frequency"
         }
        }
       }
      },
      "text/html": [
       "<div>                            <div id=\"c8c043b3-eda7-4a13-81f6-77860679913b\" class=\"plotly-graph-div\" style=\"height:525px; width:100%;\"></div>            <script type=\"text/javascript\">                require([\"plotly\"], function(Plotly) {                    window.PLOTLYENV=window.PLOTLYENV || {};                                    if (document.getElementById(\"c8c043b3-eda7-4a13-81f6-77860679913b\")) {                    Plotly.newPlot(                        \"c8c043b3-eda7-4a13-81f6-77860679913b\",                        [{\"alignmentgroup\":\"True\",\"hovertemplate\":\"type=<4.5<br>date=%{x}<br>frequency=%{y}<extra></extra>\",\"legendgroup\":\"<4.5\",\"marker\":{\"color\":\"#636efa\",\"pattern\":{\"shape\":\"\"}},\"name\":\"<4.5\",\"offsetgroup\":\"type1\",\"orientation\":\"v\",\"showlegend\":true,\"textposition\":\"auto\",\"x\":[2015,2016,2017,2018,2019,2020,2021,2022,2023],\"xaxis\":\"x\",\"y\":[302,47,17,18,25,15,23,22,25],\"yaxis\":\"y\",\"type\":\"bar\"},{\"alignmentgroup\":\"True\",\"hovertemplate\":\"type=>=4.5 and <5<br>date=%{x}<br>frequency=%{y}<extra></extra>\",\"legendgroup\":\">=4.5 and <5\",\"marker\":{\"color\":\"#EF553B\",\"pattern\":{\"shape\":\"\"}},\"name\":\">=4.5 and <5\",\"offsetgroup\":\"type2\",\"orientation\":\"v\",\"showlegend\":true,\"textposition\":\"auto\",\"x\":[2015,2016,2017,2018,2019,2020,2021,2022,2023],\"xaxis\":\"x\",\"y\":[83,13,8,9,16,6,6,9,6],\"yaxis\":\"y\",\"type\":\"bar\"},{\"alignmentgroup\":\"True\",\"hovertemplate\":\"type=>=5 and <5.5<br>date=%{x}<br>frequency=%{y}<extra></extra>\",\"legendgroup\":\">=5 and <5.5\",\"marker\":{\"color\":\"#00cc96\",\"pattern\":{\"shape\":\"\"}},\"name\":\">=5 and <5.5\",\"offsetgroup\":\"type3\",\"orientation\":\"v\",\"showlegend\":true,\"textposition\":\"auto\",\"x\":[2015,2016,2017,2018,2019,2020,2021,2022,2023],\"xaxis\":\"x\",\"y\":[39,2,2,1,5,3,3,3,2],\"yaxis\":\"y\",\"type\":\"bar\"},{\"alignmentgroup\":\"True\",\"hovertemplate\":\"type=>=5.5<br>date=%{x}<br>frequency=%{y}<extra></extra>\",\"legendgroup\":\">=5.5\",\"marker\":{\"color\":\"#ab63fa\",\"pattern\":{\"shape\":\"\"}},\"name\":\">=5.5\",\"offsetgroup\":\"type4\",\"orientation\":\"v\",\"showlegend\":true,\"textposition\":\"auto\",\"x\":[2015,2016,2017,2018,2019,2020,2021,2022,2023],\"xaxis\":\"x\",\"y\":[17,3,0,0,1,1,2,4,2],\"yaxis\":\"y\",\"type\":\"bar\"}],                        {\"template\":{\"data\":{\"histogram2dcontour\":[{\"type\":\"histogram2dcontour\",\"colorbar\":{\"outlinewidth\":0,\"ticks\":\"\"},\"colorscale\":[[0.0,\"#0d0887\"],[0.1111111111111111,\"#46039f\"],[0.2222222222222222,\"#7201a8\"],[0.3333333333333333,\"#9c179e\"],[0.4444444444444444,\"#bd3786\"],[0.5555555555555556,\"#d8576b\"],[0.6666666666666666,\"#ed7953\"],[0.7777777777777778,\"#fb9f3a\"],[0.8888888888888888,\"#fdca26\"],[1.0,\"#f0f921\"]]}],\"choropleth\":[{\"type\":\"choropleth\",\"colorbar\":{\"outlinewidth\":0,\"ticks\":\"\"}}],\"histogram2d\":[{\"type\":\"histogram2d\",\"colorbar\":{\"outlinewidth\":0,\"ticks\":\"\"},\"colorscale\":[[0.0,\"#0d0887\"],[0.1111111111111111,\"#46039f\"],[0.2222222222222222,\"#7201a8\"],[0.3333333333333333,\"#9c179e\"],[0.4444444444444444,\"#bd3786\"],[0.5555555555555556,\"#d8576b\"],[0.6666666666666666,\"#ed7953\"],[0.7777777777777778,\"#fb9f3a\"],[0.8888888888888888,\"#fdca26\"],[1.0,\"#f0f921\"]]}],\"heatmap\":[{\"type\":\"heatmap\",\"colorbar\":{\"outlinewidth\":0,\"ticks\":\"\"},\"colorscale\":[[0.0,\"#0d0887\"],[0.1111111111111111,\"#46039f\"],[0.2222222222222222,\"#7201a8\"],[0.3333333333333333,\"#9c179e\"],[0.4444444444444444,\"#bd3786\"],[0.5555555555555556,\"#d8576b\"],[0.6666666666666666,\"#ed7953\"],[0.7777777777777778,\"#fb9f3a\"],[0.8888888888888888,\"#fdca26\"],[1.0,\"#f0f921\"]]}],\"heatmapgl\":[{\"type\":\"heatmapgl\",\"colorbar\":{\"outlinewidth\":0,\"ticks\":\"\"},\"colorscale\":[[0.0,\"#0d0887\"],[0.1111111111111111,\"#46039f\"],[0.2222222222222222,\"#7201a8\"],[0.3333333333333333,\"#9c179e\"],[0.4444444444444444,\"#bd3786\"],[0.5555555555555556,\"#d8576b\"],[0.6666666666666666,\"#ed7953\"],[0.7777777777777778,\"#fb9f3a\"],[0.8888888888888888,\"#fdca26\"],[1.0,\"#f0f921\"]]}],\"contourcarpet\":[{\"type\":\"contourcarpet\",\"colorbar\":{\"outlinewidth\":0,\"ticks\":\"\"}}],\"contour\":[{\"type\":\"contour\",\"colorbar\":{\"outlinewidth\":0,\"ticks\":\"\"},\"colorscale\":[[0.0,\"#0d0887\"],[0.1111111111111111,\"#46039f\"],[0.2222222222222222,\"#7201a8\"],[0.3333333333333333,\"#9c179e\"],[0.4444444444444444,\"#bd3786\"],[0.5555555555555556,\"#d8576b\"],[0.6666666666666666,\"#ed7953\"],[0.7777777777777778,\"#fb9f3a\"],[0.8888888888888888,\"#fdca26\"],[1.0,\"#f0f921\"]]}],\"surface\":[{\"type\":\"surface\",\"colorbar\":{\"outlinewidth\":0,\"ticks\":\"\"},\"colorscale\":[[0.0,\"#0d0887\"],[0.1111111111111111,\"#46039f\"],[0.2222222222222222,\"#7201a8\"],[0.3333333333333333,\"#9c179e\"],[0.4444444444444444,\"#bd3786\"],[0.5555555555555556,\"#d8576b\"],[0.6666666666666666,\"#ed7953\"],[0.7777777777777778,\"#fb9f3a\"],[0.8888888888888888,\"#fdca26\"],[1.0,\"#f0f921\"]]}],\"mesh3d\":[{\"type\":\"mesh3d\",\"colorbar\":{\"outlinewidth\":0,\"ticks\":\"\"}}],\"scatter\":[{\"fillpattern\":{\"fillmode\":\"overlay\",\"size\":10,\"solidity\":0.2},\"type\":\"scatter\"}],\"parcoords\":[{\"type\":\"parcoords\",\"line\":{\"colorbar\":{\"outlinewidth\":0,\"ticks\":\"\"}}}],\"scatterpolargl\":[{\"type\":\"scatterpolargl\",\"marker\":{\"colorbar\":{\"outlinewidth\":0,\"ticks\":\"\"}}}],\"bar\":[{\"error_x\":{\"color\":\"#2a3f5f\"},\"error_y\":{\"color\":\"#2a3f5f\"},\"marker\":{\"line\":{\"color\":\"#E5ECF6\",\"width\":0.5},\"pattern\":{\"fillmode\":\"overlay\",\"size\":10,\"solidity\":0.2}},\"type\":\"bar\"}],\"scattergeo\":[{\"type\":\"scattergeo\",\"marker\":{\"colorbar\":{\"outlinewidth\":0,\"ticks\":\"\"}}}],\"scatterpolar\":[{\"type\":\"scatterpolar\",\"marker\":{\"colorbar\":{\"outlinewidth\":0,\"ticks\":\"\"}}}],\"histogram\":[{\"marker\":{\"pattern\":{\"fillmode\":\"overlay\",\"size\":10,\"solidity\":0.2}},\"type\":\"histogram\"}],\"scattergl\":[{\"type\":\"scattergl\",\"marker\":{\"colorbar\":{\"outlinewidth\":0,\"ticks\":\"\"}}}],\"scatter3d\":[{\"type\":\"scatter3d\",\"line\":{\"colorbar\":{\"outlinewidth\":0,\"ticks\":\"\"}},\"marker\":{\"colorbar\":{\"outlinewidth\":0,\"ticks\":\"\"}}}],\"scattermapbox\":[{\"type\":\"scattermapbox\",\"marker\":{\"colorbar\":{\"outlinewidth\":0,\"ticks\":\"\"}}}],\"scatterternary\":[{\"type\":\"scatterternary\",\"marker\":{\"colorbar\":{\"outlinewidth\":0,\"ticks\":\"\"}}}],\"scattercarpet\":[{\"type\":\"scattercarpet\",\"marker\":{\"colorbar\":{\"outlinewidth\":0,\"ticks\":\"\"}}}],\"carpet\":[{\"aaxis\":{\"endlinecolor\":\"#2a3f5f\",\"gridcolor\":\"white\",\"linecolor\":\"white\",\"minorgridcolor\":\"white\",\"startlinecolor\":\"#2a3f5f\"},\"baxis\":{\"endlinecolor\":\"#2a3f5f\",\"gridcolor\":\"white\",\"linecolor\":\"white\",\"minorgridcolor\":\"white\",\"startlinecolor\":\"#2a3f5f\"},\"type\":\"carpet\"}],\"table\":[{\"cells\":{\"fill\":{\"color\":\"#EBF0F8\"},\"line\":{\"color\":\"white\"}},\"header\":{\"fill\":{\"color\":\"#C8D4E3\"},\"line\":{\"color\":\"white\"}},\"type\":\"table\"}],\"barpolar\":[{\"marker\":{\"line\":{\"color\":\"#E5ECF6\",\"width\":0.5},\"pattern\":{\"fillmode\":\"overlay\",\"size\":10,\"solidity\":0.2}},\"type\":\"barpolar\"}],\"pie\":[{\"automargin\":true,\"type\":\"pie\"}]},\"layout\":{\"autotypenumbers\":\"strict\",\"colorway\":[\"#636efa\",\"#EF553B\",\"#00cc96\",\"#ab63fa\",\"#FFA15A\",\"#19d3f3\",\"#FF6692\",\"#B6E880\",\"#FF97FF\",\"#FECB52\"],\"font\":{\"color\":\"#2a3f5f\"},\"hovermode\":\"closest\",\"hoverlabel\":{\"align\":\"left\"},\"paper_bgcolor\":\"white\",\"plot_bgcolor\":\"#E5ECF6\",\"polar\":{\"bgcolor\":\"#E5ECF6\",\"angularaxis\":{\"gridcolor\":\"white\",\"linecolor\":\"white\",\"ticks\":\"\"},\"radialaxis\":{\"gridcolor\":\"white\",\"linecolor\":\"white\",\"ticks\":\"\"}},\"ternary\":{\"bgcolor\":\"#E5ECF6\",\"aaxis\":{\"gridcolor\":\"white\",\"linecolor\":\"white\",\"ticks\":\"\"},\"baxis\":{\"gridcolor\":\"white\",\"linecolor\":\"white\",\"ticks\":\"\"},\"caxis\":{\"gridcolor\":\"white\",\"linecolor\":\"white\",\"ticks\":\"\"}},\"coloraxis\":{\"colorbar\":{\"outlinewidth\":0,\"ticks\":\"\"}},\"colorscale\":{\"sequential\":[[0.0,\"#0d0887\"],[0.1111111111111111,\"#46039f\"],[0.2222222222222222,\"#7201a8\"],[0.3333333333333333,\"#9c179e\"],[0.4444444444444444,\"#bd3786\"],[0.5555555555555556,\"#d8576b\"],[0.6666666666666666,\"#ed7953\"],[0.7777777777777778,\"#fb9f3a\"],[0.8888888888888888,\"#fdca26\"],[1.0,\"#f0f921\"]],\"sequentialminus\":[[0.0,\"#0d0887\"],[0.1111111111111111,\"#46039f\"],[0.2222222222222222,\"#7201a8\"],[0.3333333333333333,\"#9c179e\"],[0.4444444444444444,\"#bd3786\"],[0.5555555555555556,\"#d8576b\"],[0.6666666666666666,\"#ed7953\"],[0.7777777777777778,\"#fb9f3a\"],[0.8888888888888888,\"#fdca26\"],[1.0,\"#f0f921\"]],\"diverging\":[[0,\"#8e0152\"],[0.1,\"#c51b7d\"],[0.2,\"#de77ae\"],[0.3,\"#f1b6da\"],[0.4,\"#fde0ef\"],[0.5,\"#f7f7f7\"],[0.6,\"#e6f5d0\"],[0.7,\"#b8e186\"],[0.8,\"#7fbc41\"],[0.9,\"#4d9221\"],[1,\"#276419\"]]},\"xaxis\":{\"gridcolor\":\"white\",\"linecolor\":\"white\",\"ticks\":\"\",\"title\":{\"standoff\":15},\"zerolinecolor\":\"white\",\"automargin\":true,\"zerolinewidth\":2},\"yaxis\":{\"gridcolor\":\"white\",\"linecolor\":\"white\",\"ticks\":\"\",\"title\":{\"standoff\":15},\"zerolinecolor\":\"white\",\"automargin\":true,\"zerolinewidth\":2},\"scene\":{\"xaxis\":{\"backgroundcolor\":\"#E5ECF6\",\"gridcolor\":\"white\",\"linecolor\":\"white\",\"showbackground\":true,\"ticks\":\"\",\"zerolinecolor\":\"white\",\"gridwidth\":2},\"yaxis\":{\"backgroundcolor\":\"#E5ECF6\",\"gridcolor\":\"white\",\"linecolor\":\"white\",\"showbackground\":true,\"ticks\":\"\",\"zerolinecolor\":\"white\",\"gridwidth\":2},\"zaxis\":{\"backgroundcolor\":\"#E5ECF6\",\"gridcolor\":\"white\",\"linecolor\":\"white\",\"showbackground\":true,\"ticks\":\"\",\"zerolinecolor\":\"white\",\"gridwidth\":2}},\"shapedefaults\":{\"line\":{\"color\":\"#2a3f5f\"}},\"annotationdefaults\":{\"arrowcolor\":\"#2a3f5f\",\"arrowhead\":0,\"arrowwidth\":1},\"geo\":{\"bgcolor\":\"white\",\"landcolor\":\"#E5ECF6\",\"subunitcolor\":\"white\",\"showland\":true,\"showlakes\":true,\"lakecolor\":\"white\"},\"title\":{\"x\":0.05},\"mapbox\":{\"style\":\"light\"}}},\"xaxis\":{\"anchor\":\"y\",\"domain\":[0.0,1.0],\"title\":{\"text\":\"date\"}},\"yaxis\":{\"anchor\":\"x\",\"domain\":[0.0,1.0],\"title\":{\"text\":\"frequency\"}},\"legend\":{\"title\":{\"text\":\"type\"},\"tracegroupgap\":0},\"title\":{\"text\":\"Stacked bar chart of earthquake type by year\",\"x\":0.5},\"barmode\":\"stack\",\"margin\":{\"l\":50,\"r\":50,\"t\":25,\"b\":50}},                        {\"responsive\": true}                    ).then(function(){\n",
       "                            \n",
       "var gd = document.getElementById('c8c043b3-eda7-4a13-81f6-77860679913b');\n",
       "var x = new MutationObserver(function (mutations, observer) {{\n",
       "        var display = window.getComputedStyle(gd).display;\n",
       "        if (!display || display === 'none') {{\n",
       "            console.log([gd, 'removed!']);\n",
       "            Plotly.purge(gd);\n",
       "            observer.disconnect();\n",
       "        }}\n",
       "}});\n",
       "\n",
       "// Listen for the removal of the full notebook cells\n",
       "var notebookContainer = gd.closest('#notebook-container');\n",
       "if (notebookContainer) {{\n",
       "    x.observe(notebookContainer, {childList: true});\n",
       "}}\n",
       "\n",
       "// Listen for the clearing of the current output cell\n",
       "var outputEl = gd.closest('.output');\n",
       "if (outputEl) {{\n",
       "    x.observe(outputEl, {childList: true});\n",
       "}}\n",
       "\n",
       "                        })                };                });            </script>        </div>"
      ]
     },
     "metadata": {},
     "output_type": "display_data"
    }
   ],
   "source": [
    "fig = px.bar(freq_by_year, 'date', 'frequency', color='type',\n",
    "            title='Stacked bar chart of earthquake type by year')\n",
    "fig.update_layout(barmode='stack',\n",
    "                 title_x=0.5,\n",
    "                 margin=dict(l=50, r=50, t=25, b=50))\n",
    "\n",
    "fig.for_each_trace(lambda t: t.update(name = new_names[t.name],\n",
    "                                     legendgroup = new_names[t.name],\n",
    "                                     hovertemplate = t.hovertemplate.replace(t.name, new_names[t.name])\n",
    "                                     )\n",
    "                  )"
   ]
  },
  {
   "cell_type": "code",
   "execution_count": null,
   "id": "eb5fd1ac",
   "metadata": {},
   "outputs": [],
   "source": []
  },
  {
   "cell_type": "code",
   "execution_count": null,
   "id": "22d4c0ee",
   "metadata": {},
   "outputs": [],
   "source": []
  },
  {
   "cell_type": "code",
   "execution_count": 68,
   "id": "3a5c32fe",
   "metadata": {},
   "outputs": [],
   "source": [
    "fig = px.density_mapbox(main_df,\n",
    "                        lat='latitude',\n",
    "                        lon='longitude',\n",
    "                        mapbox_style='stamen-terrain',\n",
    "                        radius=5,\n",
    "                        center={'lat': 28.23, 'lon': 83.64},\n",
    "                       title=\"Earthquake Density Map in Nepal(2015 and after)\",\n",
    "                       zoom = 5.5,\n",
    "                       labels={'z': 'Earthquake Density'},\n",
    "                        color_continuous_scale='Viridis',\n",
    "                        opacity=0.8,\n",
    "                       )\n"
   ]
  },
  {
   "cell_type": "code",
   "execution_count": 75,
   "id": "00d6ceab",
   "metadata": {},
   "outputs": [
    {
     "data": {
      "application/vnd.plotly.v1+json": {
       "config": {
        "plotlyServerURL": "https://plot.ly"
       },
       "data": [
        {
         "coloraxis": "coloraxis",
         "hovertemplate": "latitude=%{lat}<br>longitude=%{lon}<extra></extra>",
         "lat": [
          27.92,
          29.29,
          29.35,
          29.08,
          28.45,
          28.36,
          28.45,
          28.45,
          28.35,
          28.48,
          29.61,
          29.7,
          29.66,
          29.45,
          29.6,
          29.58,
          29.61,
          29.58,
          29.59,
          29.58,
          29.42,
          29.52,
          29.5,
          29.49,
          29.78,
          29.41,
          29.64,
          29.75,
          29.69,
          29.64,
          29.63,
          29.63,
          29.54,
          29.81,
          29.79,
          30,
          29.72,
          29.68,
          29.73,
          29.78,
          29.74,
          29.78,
          29.75,
          29.38,
          29.42,
          29.68,
          29.71,
          29.64,
          29.75,
          29.35,
          29.41,
          29.61,
          29.59,
          29.58,
          29.57,
          29.68,
          29.71,
          29.81,
          29.35,
          29.44,
          29.69,
          29.71,
          28.24,
          27.7,
          27.67,
          27.37,
          27.09,
          26.75,
          28.95,
          28.98,
          28.98,
          28.98,
          28.94,
          28.93,
          28.94,
          29.02,
          28.9,
          28.94,
          29.78,
          30,
          29.82,
          29.89,
          29.82,
          29.88,
          29.83,
          29.8,
          29.8,
          28.26,
          27.92,
          27.85,
          28.01,
          27.95,
          27.85,
          27.7,
          27.69,
          27.75,
          27.82,
          28.11,
          27.87,
          27.79,
          27.73,
          28.01,
          27.83,
          28.04,
          27.74,
          27.92,
          27.73,
          28.14,
          27.75,
          28.01,
          28.07,
          28,
          27.95,
          27.99,
          28.02,
          28.11,
          27.92,
          27.93,
          27.91,
          28.1,
          28.06,
          27.94,
          28.05,
          27.98,
          27.93,
          27.86,
          28.19,
          27.9,
          26.93,
          29.98,
          27.76,
          27.66,
          27.67,
          27.64,
          27.79,
          27.66,
          27.62,
          27.88,
          27.65,
          27.79,
          27.71,
          27.69,
          27.8,
          27.76,
          27.66,
          27.66,
          27.68,
          27.7,
          27.7,
          27.72,
          27.63,
          27.62,
          27.66,
          27.56,
          27.62,
          27.73,
          27.66,
          27.67,
          27.65,
          27.78,
          27.82,
          27.84,
          27.76,
          27.69,
          27.72,
          27.56,
          27.72,
          27.65,
          27.63,
          27.75,
          27.7,
          27.79,
          27.86,
          27.8,
          27.71,
          27.68,
          27.69,
          27.71,
          27.71,
          27.76,
          27.6,
          27.82,
          27.64,
          27.66,
          27.68,
          27.87,
          27.93,
          27.71,
          27.87,
          27.59,
          27.69,
          27.63,
          27.64,
          27.66,
          27.59,
          27.68,
          27.68,
          27.61,
          27.66,
          27.86,
          27.63,
          27.8,
          27.6,
          27.69,
          27.67,
          27.71,
          27.74,
          27.66,
          27.67,
          27.7,
          27.74,
          27.73,
          27.67,
          27.67,
          27.62,
          27.87,
          27.58,
          27.76,
          27.7,
          27.76,
          27.78,
          27.82,
          27.59,
          27.59,
          27.77,
          27.59,
          27.71,
          27.63,
          27.84,
          27.71,
          27.74,
          27.8,
          27.76,
          27.76,
          27.67,
          27.74,
          27.69,
          27.63,
          27.85,
          27.84,
          27.66,
          27.69,
          27.71,
          27.84,
          27.73,
          27.64,
          27.6,
          27.66,
          27.65,
          27.74,
          27.69,
          27.63,
          27.61,
          27.92,
          27.83,
          27.71,
          27.75,
          27.67,
          27.62,
          27.66,
          27.68,
          27.84,
          27.79,
          27.79,
          27.7,
          27.75,
          27.65,
          27.63,
          27.82,
          27.85,
          27.6,
          27.7,
          27.8,
          27.69,
          27.68,
          27.79,
          27.66,
          27.68,
          27.84,
          27.73,
          27.82,
          27.72,
          27.7,
          27.71,
          27.72,
          27.62,
          27.76,
          27.73,
          27.69,
          27.68,
          27.76,
          27.68,
          27.63,
          27.69,
          27.84,
          27.69,
          27.74,
          27.69,
          27.74,
          27.79,
          27.66,
          27.74,
          27.7,
          27.74,
          27.65,
          27.81,
          27.83,
          27.65,
          27.84,
          27.68,
          27.67,
          27.82,
          27.6,
          27.69,
          29.1,
          29.38,
          29.38,
          29.38,
          28.57,
          28.17,
          28.12,
          28.1,
          27.9,
          28.18,
          28.15,
          28,
          28.17,
          27.99,
          28.03,
          28.01,
          28.08,
          28.15,
          28.12,
          28.14,
          28.18,
          28.17,
          28.26,
          28.21,
          28.17,
          28.01,
          28.13,
          28.07,
          28.16,
          28.01,
          28.12,
          28.08,
          28.24,
          28.19,
          28.29,
          28.2,
          28.1,
          28.26,
          28.32,
          28.31,
          27.98,
          28.24,
          28.14,
          28.16,
          28.18,
          28.28,
          28.24,
          28.24,
          28.28,
          29.75,
          29.89,
          30.3,
          30.37,
          30.22,
          30.11,
          30.1,
          30,
          30.31,
          29.73,
          27.08,
          30.2,
          28.95,
          28.8,
          28.85,
          29.35,
          27.65,
          29.38,
          28.43,
          28.33,
          28.34,
          28.4,
          27.68,
          27.78,
          27.72,
          27.7,
          27.7,
          27.68,
          27.7,
          27.64,
          27.68,
          27.68,
          27.75,
          27.67,
          27.71,
          27.67,
          27.67,
          27.69,
          27.68,
          27.5,
          27.67,
          27.55,
          27.65,
          27.64,
          27.57,
          27.5,
          27.63,
          27.64,
          27.67,
          27.57,
          27.56,
          29.89,
          27.16,
          27.28,
          27.65,
          27.57,
          27.58,
          27.54,
          27.45,
          27.52,
          28.15,
          28.29,
          28.13,
          28.24,
          28.27,
          28.27,
          28.26,
          28.26,
          28.28,
          28.25,
          28.21,
          28.21,
          28.31,
          28.29,
          27.63,
          28.78,
          29.64,
          29.66,
          29.62,
          28.5,
          28.5,
          28.43,
          26.76,
          27.87,
          27.83,
          27.87,
          27.93,
          28.08,
          27.86,
          28.06,
          27.87,
          27.96,
          27.94,
          28.06,
          27.78,
          27.8,
          27.79,
          28.04,
          28.05,
          27.79,
          27.93,
          27.97,
          28.01,
          27.92,
          27.79,
          27.75,
          27.8,
          27.79,
          27.97,
          27.8,
          27.79,
          28.04,
          27.78,
          27.77,
          27.8,
          27.8,
          27.79,
          27.84,
          27.99,
          27.78,
          27.8,
          27.79,
          28,
          27.91,
          27.34,
          27.34,
          27.11,
          27.79,
          27.66,
          27.7,
          27.6,
          27.66,
          27.38,
          27.36,
          27.48,
          27.35,
          27.48,
          27.58,
          27.57,
          28.03,
          28.04,
          28.05,
          28.02,
          28.03,
          28,
          28.06,
          28.01,
          28.02,
          28.06,
          28.02,
          28.04,
          28.04,
          28.04,
          28.04,
          28.05,
          28.26,
          28.24,
          28.05,
          28.25,
          28.05,
          28.29,
          28.1,
          28.14,
          28.05,
          28.1,
          28.14,
          28.29,
          28.2,
          28.13,
          28.8,
          28.83,
          28.65,
          28.62,
          28.68,
          28.66,
          27.3,
          27.58,
          27.8,
          27.79,
          27.47,
          27.8,
          27.97,
          27.94,
          27.98,
          27.87,
          27.86,
          27.92,
          27.75,
          27.84,
          27.85,
          27.94,
          27.94,
          27.8,
          27.77,
          27.92,
          27.96,
          27.92,
          27.94,
          27.9,
          27.91,
          27.9,
          27.69,
          27.85,
          27.88,
          27.78,
          27.89,
          27.8,
          27.8,
          27.8,
          28.1,
          28.06,
          27.72,
          28.07,
          28.15,
          27.91,
          27.92,
          27.71,
          27.91,
          27.77,
          27.95,
          27.79,
          27.94,
          27.93,
          27.96,
          27.86,
          27.91,
          27.92,
          27.96,
          27.93,
          27.97,
          27.79,
          27.93,
          27.89,
          27.84,
          27.9,
          27.69,
          27.79,
          27.81,
          27.84,
          27.95,
          27.83,
          28.01,
          27.86,
          27.87,
          27.77,
          27.75,
          27.92,
          27.72,
          27.85,
          27.97,
          27.8,
          27.93,
          27.92,
          27.85,
          27.87,
          27.96,
          27.8,
          27.87,
          27.8,
          27.9,
          27.79,
          27.84,
          27.79,
          27.98,
          27.94,
          27.89,
          27.91,
          27.84,
          27.78,
          27.9,
          27.92,
          27.7,
          27.84,
          27.91,
          27.99,
          27.88,
          27.75,
          27.94,
          27.77,
          27.96,
          27.75,
          27.95,
          27.69,
          28.09,
          27.89,
          27.72,
          27.93,
          27.95,
          27.75,
          27.88,
          27.92,
          27.95,
          27.93,
          27.96,
          27.76,
          27.88,
          27.89,
          27.83,
          27.92,
          27.82,
          27.93,
          27.82,
          27.77,
          27.97,
          27.94,
          27.91,
          28.04,
          27.95,
          27.72,
          27.89,
          27.82,
          27.79,
          27.6,
          27.93,
          27.93,
          27.75,
          27.87,
          27.78,
          27.9,
          27.77,
          27.92,
          27.95,
          27.73,
          27.73,
          27.91,
          27.86,
          28,
          27.78,
          27.89,
          27.99,
          27.94,
          27.77,
          27.86,
          27.81,
          27.8,
          27.85,
          27.89,
          27.86,
          27.8,
          27.8,
          27.96,
          26.68,
          27.55,
          27.52,
          27.86,
          27.82,
          27.83,
          27.42,
          27.3,
          27.31,
          27.9,
          27.89,
          27.78,
          27.66,
          27.77,
          27.73,
          27.82,
          27.81,
          27.5,
          27.31,
          27.36,
          27.74,
          27.75,
          27.88,
          28.07,
          28.27,
          28.26,
          27.97,
          28.03,
          28.04,
          27.94,
          28.34,
          27.99,
          28.41,
          26.98,
          26.88,
          26.94
         ],
         "lon": [
          85.81,
          81.4,
          81.21,
          81.45,
          83.09,
          83.19,
          83.14,
          83.23,
          83.36,
          83.13,
          80.51,
          80.71,
          81.61,
          81.19,
          81.04,
          81,
          81.01,
          80.81,
          80.89,
          80.96,
          81.1,
          81.05,
          81.28,
          81.24,
          81.28,
          81.1,
          80.97,
          81.31,
          81.05,
          81.28,
          81.24,
          81.28,
          81.1,
          81.51,
          81.59,
          81.45,
          81.61,
          81.61,
          81.62,
          81.58,
          81.63,
          81.61,
          81.56,
          81.34,
          81.66,
          81.67,
          81.62,
          81.68,
          81.7,
          81.29,
          81.34,
          81.71,
          81.73,
          81.71,
          81.56,
          81.65,
          81.57,
          81.56,
          81.29,
          81.69,
          81.74,
          81.69,
          81.77,
          85.41,
          85.42,
          87.06,
          86.96,
          89.09,
          81.68,
          81.47,
          81.78,
          81.69,
          81.72,
          81.7,
          81.74,
          81.51,
          81.77,
          81.75,
          80.92,
          80.74,
          80.76,
          80.7,
          80.76,
          80.61,
          80.6,
          80.73,
          80.48,
          85.06,
          84.94,
          84.93,
          84.97,
          84.8,
          84.87,
          85.14,
          85.17,
          84.87,
          84.81,
          85.04,
          84.91,
          84.8,
          85.16,
          84.94,
          84.9,
          85.02,
          85.07,
          84.94,
          85,
          85.11,
          85.21,
          84.84,
          84.94,
          84.98,
          84.8,
          84.79,
          84.98,
          84.88,
          84.84,
          84.84,
          84.82,
          84.91,
          85.05,
          84.83,
          84.94,
          84.87,
          84.83,
          84.89,
          85.03,
          84.86,
          87.26,
          80.54,
          86.19,
          86.2,
          86.32,
          86.1,
          86.35,
          86.18,
          86.24,
          86.2,
          86.15,
          86.18,
          86.32,
          86.26,
          86.15,
          86.27,
          86,
          86.1,
          86.11,
          86.33,
          86.33,
          86.01,
          86.19,
          86.25,
          86.27,
          85.96,
          86.1,
          86.08,
          85.95,
          85.95,
          86.13,
          86.35,
          86.14,
          86.16,
          86.34,
          86.24,
          86.29,
          86.17,
          86.09,
          86.23,
          86.25,
          86.12,
          86.12,
          86.08,
          86.19,
          86.3,
          86.16,
          86.08,
          86.09,
          86.1,
          86.15,
          86.37,
          86.19,
          86.24,
          86.19,
          86.23,
          86.22,
          86.17,
          86.14,
          86.05,
          86.08,
          85.97,
          86.26,
          86.07,
          86.07,
          86.09,
          86.17,
          86.04,
          86.22,
          86.28,
          86,
          86.39,
          86.09,
          86.23,
          86.23,
          86.2,
          86.2,
          86.12,
          86.28,
          86.21,
          86.17,
          86.16,
          86.26,
          86.16,
          86.09,
          86.07,
          86.1,
          86.13,
          86.18,
          86.2,
          86.26,
          86.07,
          86.2,
          86.34,
          86.16,
          86.19,
          86.25,
          86.2,
          86.05,
          86.3,
          86.24,
          86.07,
          86.19,
          86.29,
          86.26,
          86.28,
          86.18,
          86.2,
          86.16,
          86.25,
          86.32,
          86.33,
          86.03,
          86.26,
          86.07,
          86.24,
          86.06,
          86.14,
          86.26,
          86.09,
          86.12,
          86.17,
          86.08,
          86.25,
          86.2,
          86.31,
          86.15,
          86.04,
          86.14,
          86.08,
          86.09,
          86.07,
          86.17,
          86.25,
          86.07,
          86.19,
          86.15,
          86.25,
          86.18,
          86.17,
          86.47,
          86.29,
          86.16,
          86.01,
          86.12,
          86.21,
          86.23,
          86.11,
          86.17,
          86.04,
          86.23,
          86.21,
          86.12,
          85.97,
          86.04,
          86,
          86.2,
          86.16,
          86.24,
          86.11,
          86.05,
          86.03,
          86.31,
          86.04,
          86.17,
          86.24,
          86.17,
          86.04,
          86.03,
          85.99,
          86,
          86.23,
          86.01,
          86.28,
          85.98,
          85.99,
          86.09,
          86.09,
          86.06,
          85.97,
          86.05,
          85.95,
          86.07,
          86.05,
          86.09,
          86.02,
          83.3,
          81.13,
          81.11,
          81.11,
          82.88,
          84.74,
          84.9,
          84.81,
          84.57,
          84.93,
          84.61,
          84.76,
          84.89,
          84.71,
          84.64,
          84.68,
          84.76,
          84.81,
          84.89,
          84.72,
          84.74,
          84.94,
          84.92,
          84.81,
          84.72,
          84.68,
          84.89,
          84.7,
          84.9,
          84.68,
          84.8,
          85.04,
          84.76,
          84.8,
          84.93,
          84.78,
          84.65,
          85.02,
          84.73,
          84.97,
          84.99,
          84.82,
          84.71,
          84.71,
          84.95,
          84.72,
          84.75,
          84.99,
          84.65,
          81.78,
          81.93,
          81.74,
          81.57,
          81.7,
          81.53,
          81.85,
          81.75,
          81.47,
          82.01,
          87.96,
          80.1,
          81.98,
          81.92,
          82.18,
          82.04,
          85.63,
          81.88,
          83.99,
          83.86,
          83.8,
          83.99,
          85.27,
          85.39,
          85.2,
          85.29,
          85.32,
          85.28,
          85.22,
          85.31,
          85.3,
          85.3,
          85.2,
          85.29,
          85.43,
          85.3,
          85.28,
          85.25,
          85.32,
          85.5,
          85.54,
          85.79,
          85.56,
          85.63,
          85.59,
          85.63,
          85.53,
          85.7,
          85.55,
          85.74,
          85.73,
          80.59,
          86.83,
          86.9,
          85.31,
          85.31,
          85.39,
          85.43,
          85.31,
          85.26,
          84.54,
          84.36,
          84.56,
          84.41,
          84.42,
          84.4,
          84.36,
          84.35,
          84.39,
          84.49,
          84.49,
          84.37,
          84.35,
          84.46,
          85.16,
          84.1,
          81.89,
          82.04,
          82.11,
          83.22,
          83.32,
          83.3,
          88.21,
          85.8,
          85.15,
          85.3,
          85.21,
          85.13,
          85.29,
          85.09,
          85.29,
          85.48,
          85.48,
          85.14,
          85.17,
          85.15,
          85.17,
          85.13,
          85.08,
          85.14,
          85.46,
          85.48,
          85.41,
          85.46,
          85.16,
          85.19,
          85.16,
          85.16,
          85.21,
          85.11,
          85.14,
          85.37,
          85.17,
          85.12,
          85.12,
          85.16,
          85.15,
          85.12,
          85.02,
          85.17,
          85.29,
          85.16,
          85.4,
          85.33,
          86.49,
          86.27,
          87.95,
          86.58,
          86.34,
          86.47,
          86.31,
          86.41,
          86.13,
          86.12,
          86.01,
          86.2,
          85.87,
          86.41,
          86.29,
          85.38,
          85.17,
          85.38,
          85.28,
          85.23,
          85.29,
          85.34,
          85.19,
          85.26,
          85.35,
          85.25,
          85.2,
          85.26,
          85.32,
          85.33,
          85.34,
          85.1,
          85.23,
          85.34,
          85.83,
          85.35,
          85.16,
          85.27,
          85.16,
          85.25,
          85.2,
          85.28,
          85.16,
          85.75,
          85.65,
          82.53,
          82.55,
          82.76,
          82.84,
          82.97,
          83.06,
          87.26,
          87.19,
          87.62,
          87.41,
          87.15,
          85.81,
          85.54,
          85.52,
          85.58,
          85.92,
          85.82,
          85.8,
          85.87,
          85.95,
          85.76,
          85.51,
          85.5,
          85.74,
          85.88,
          85.68,
          85.75,
          85.66,
          85.49,
          85.58,
          85.59,
          85.51,
          86.11,
          85.92,
          85.94,
          85.85,
          85.88,
          85.95,
          85.83,
          85.94,
          85.49,
          85.94,
          86.02,
          86.02,
          86.06,
          85.81,
          85.81,
          85.92,
          85.8,
          85.88,
          85.59,
          85.79,
          85.72,
          85.94,
          85.68,
          85.77,
          85.77,
          85.66,
          85.62,
          85.5,
          85.55,
          85.85,
          85.59,
          85.73,
          85.73,
          85.87,
          85.93,
          85.73,
          85.72,
          85.71,
          85.52,
          85.83,
          85.8,
          85.72,
          85.77,
          85.87,
          86.01,
          85.69,
          85.75,
          85.74,
          85.62,
          85.74,
          85.64,
          85.68,
          85.75,
          85.72,
          85.73,
          85.78,
          85.81,
          85.61,
          85.64,
          85.78,
          85.78,
          85.87,
          85.51,
          85.54,
          85.53,
          85.53,
          86,
          85.93,
          85.99,
          86.04,
          85.85,
          85.84,
          85.75,
          85.86,
          86,
          85.91,
          85.58,
          85.88,
          86,
          85.87,
          85.86,
          85.93,
          85.72,
          85.73,
          85.74,
          85.5,
          85.73,
          85.95,
          85.87,
          85.87,
          85.52,
          85.63,
          85.55,
          85.8,
          85.88,
          85.76,
          85.83,
          85.51,
          85.89,
          85.86,
          85.76,
          85.91,
          85.81,
          85.55,
          85.55,
          85.5,
          85.87,
          85.97,
          85.6,
          85.8,
          86,
          85.96,
          85.56,
          85.56,
          85.94,
          85.8,
          85.98,
          85.53,
          85.83,
          85.64,
          85.56,
          85.9,
          85.9,
          85.5,
          85.85,
          85.6,
          85.84,
          85.75,
          85.65,
          85.52,
          85.7,
          85.76,
          85.71,
          85.75,
          85.75,
          85.73,
          85.87,
          86,
          85.82,
          85.54,
          86.27,
          86.59,
          86.39,
          87.89,
          88.02,
          87.95,
          87.47,
          87.73,
          87.94,
          87.86,
          87.91,
          88.15,
          87.62,
          87.86,
          87.87,
          87.98,
          88.18,
          88.04,
          87.9,
          88.01,
          88.13,
          88.04,
          88.13,
          85.96,
          85.94,
          85.86,
          86.45,
          86.36,
          85.96,
          86.05,
          85.91,
          85.71,
          85.8,
          86.69,
          86.59,
          86.67
         ],
         "name": "",
         "opacity": 0.8,
         "radius": 5,
         "subplot": "mapbox",
         "type": "densitymapbox"
        }
       ],
       "layout": {
        "coloraxis": {
         "colorbar": {
          "ticktext": [
           "Low",
           "Moderately low",
           "High",
           "moderately high",
           "Very High"
          ],
          "tickvals": [
           0,
           0.25,
           0.5,
           0.75,
           1
          ],
          "title": {
           "text": "Earthquake Density"
          }
         },
         "colorscale": [
          [
           0,
           "#440154"
          ],
          [
           0.1111111111111111,
           "#482878"
          ],
          [
           0.2222222222222222,
           "#3e4989"
          ],
          [
           0.3333333333333333,
           "#31688e"
          ],
          [
           0.4444444444444444,
           "#26828e"
          ],
          [
           0.5555555555555556,
           "#1f9e89"
          ],
          [
           0.6666666666666666,
           "#35b779"
          ],
          [
           0.7777777777777778,
           "#6ece58"
          ],
          [
           0.8888888888888888,
           "#b5de2b"
          ],
          [
           1,
           "#fde725"
          ]
         ]
        },
        "legend": {
         "tracegroupgap": 0
        },
        "mapbox": {
         "center": {
          "lat": 28.23,
          "lon": 83.64
         },
         "domain": {
          "x": [
           0,
           1
          ],
          "y": [
           0,
           1
          ]
         },
         "style": "stamen-terrain",
         "zoom": 5.5
        },
        "margin": {
         "b": 0,
         "l": 20,
         "r": 0,
         "t": 30
        },
        "template": {
         "data": {
          "bar": [
           {
            "error_x": {
             "color": "#2a3f5f"
            },
            "error_y": {
             "color": "#2a3f5f"
            },
            "marker": {
             "line": {
              "color": "#E5ECF6",
              "width": 0.5
             },
             "pattern": {
              "fillmode": "overlay",
              "size": 10,
              "solidity": 0.2
             }
            },
            "type": "bar"
           }
          ],
          "barpolar": [
           {
            "marker": {
             "line": {
              "color": "#E5ECF6",
              "width": 0.5
             },
             "pattern": {
              "fillmode": "overlay",
              "size": 10,
              "solidity": 0.2
             }
            },
            "type": "barpolar"
           }
          ],
          "carpet": [
           {
            "aaxis": {
             "endlinecolor": "#2a3f5f",
             "gridcolor": "white",
             "linecolor": "white",
             "minorgridcolor": "white",
             "startlinecolor": "#2a3f5f"
            },
            "baxis": {
             "endlinecolor": "#2a3f5f",
             "gridcolor": "white",
             "linecolor": "white",
             "minorgridcolor": "white",
             "startlinecolor": "#2a3f5f"
            },
            "type": "carpet"
           }
          ],
          "choropleth": [
           {
            "colorbar": {
             "outlinewidth": 0,
             "ticks": ""
            },
            "type": "choropleth"
           }
          ],
          "contour": [
           {
            "colorbar": {
             "outlinewidth": 0,
             "ticks": ""
            },
            "colorscale": [
             [
              0,
              "#0d0887"
             ],
             [
              0.1111111111111111,
              "#46039f"
             ],
             [
              0.2222222222222222,
              "#7201a8"
             ],
             [
              0.3333333333333333,
              "#9c179e"
             ],
             [
              0.4444444444444444,
              "#bd3786"
             ],
             [
              0.5555555555555556,
              "#d8576b"
             ],
             [
              0.6666666666666666,
              "#ed7953"
             ],
             [
              0.7777777777777778,
              "#fb9f3a"
             ],
             [
              0.8888888888888888,
              "#fdca26"
             ],
             [
              1,
              "#f0f921"
             ]
            ],
            "type": "contour"
           }
          ],
          "contourcarpet": [
           {
            "colorbar": {
             "outlinewidth": 0,
             "ticks": ""
            },
            "type": "contourcarpet"
           }
          ],
          "heatmap": [
           {
            "colorbar": {
             "outlinewidth": 0,
             "ticks": ""
            },
            "colorscale": [
             [
              0,
              "#0d0887"
             ],
             [
              0.1111111111111111,
              "#46039f"
             ],
             [
              0.2222222222222222,
              "#7201a8"
             ],
             [
              0.3333333333333333,
              "#9c179e"
             ],
             [
              0.4444444444444444,
              "#bd3786"
             ],
             [
              0.5555555555555556,
              "#d8576b"
             ],
             [
              0.6666666666666666,
              "#ed7953"
             ],
             [
              0.7777777777777778,
              "#fb9f3a"
             ],
             [
              0.8888888888888888,
              "#fdca26"
             ],
             [
              1,
              "#f0f921"
             ]
            ],
            "type": "heatmap"
           }
          ],
          "heatmapgl": [
           {
            "colorbar": {
             "outlinewidth": 0,
             "ticks": ""
            },
            "colorscale": [
             [
              0,
              "#0d0887"
             ],
             [
              0.1111111111111111,
              "#46039f"
             ],
             [
              0.2222222222222222,
              "#7201a8"
             ],
             [
              0.3333333333333333,
              "#9c179e"
             ],
             [
              0.4444444444444444,
              "#bd3786"
             ],
             [
              0.5555555555555556,
              "#d8576b"
             ],
             [
              0.6666666666666666,
              "#ed7953"
             ],
             [
              0.7777777777777778,
              "#fb9f3a"
             ],
             [
              0.8888888888888888,
              "#fdca26"
             ],
             [
              1,
              "#f0f921"
             ]
            ],
            "type": "heatmapgl"
           }
          ],
          "histogram": [
           {
            "marker": {
             "pattern": {
              "fillmode": "overlay",
              "size": 10,
              "solidity": 0.2
             }
            },
            "type": "histogram"
           }
          ],
          "histogram2d": [
           {
            "colorbar": {
             "outlinewidth": 0,
             "ticks": ""
            },
            "colorscale": [
             [
              0,
              "#0d0887"
             ],
             [
              0.1111111111111111,
              "#46039f"
             ],
             [
              0.2222222222222222,
              "#7201a8"
             ],
             [
              0.3333333333333333,
              "#9c179e"
             ],
             [
              0.4444444444444444,
              "#bd3786"
             ],
             [
              0.5555555555555556,
              "#d8576b"
             ],
             [
              0.6666666666666666,
              "#ed7953"
             ],
             [
              0.7777777777777778,
              "#fb9f3a"
             ],
             [
              0.8888888888888888,
              "#fdca26"
             ],
             [
              1,
              "#f0f921"
             ]
            ],
            "type": "histogram2d"
           }
          ],
          "histogram2dcontour": [
           {
            "colorbar": {
             "outlinewidth": 0,
             "ticks": ""
            },
            "colorscale": [
             [
              0,
              "#0d0887"
             ],
             [
              0.1111111111111111,
              "#46039f"
             ],
             [
              0.2222222222222222,
              "#7201a8"
             ],
             [
              0.3333333333333333,
              "#9c179e"
             ],
             [
              0.4444444444444444,
              "#bd3786"
             ],
             [
              0.5555555555555556,
              "#d8576b"
             ],
             [
              0.6666666666666666,
              "#ed7953"
             ],
             [
              0.7777777777777778,
              "#fb9f3a"
             ],
             [
              0.8888888888888888,
              "#fdca26"
             ],
             [
              1,
              "#f0f921"
             ]
            ],
            "type": "histogram2dcontour"
           }
          ],
          "mesh3d": [
           {
            "colorbar": {
             "outlinewidth": 0,
             "ticks": ""
            },
            "type": "mesh3d"
           }
          ],
          "parcoords": [
           {
            "line": {
             "colorbar": {
              "outlinewidth": 0,
              "ticks": ""
             }
            },
            "type": "parcoords"
           }
          ],
          "pie": [
           {
            "automargin": true,
            "type": "pie"
           }
          ],
          "scatter": [
           {
            "fillpattern": {
             "fillmode": "overlay",
             "size": 10,
             "solidity": 0.2
            },
            "type": "scatter"
           }
          ],
          "scatter3d": [
           {
            "line": {
             "colorbar": {
              "outlinewidth": 0,
              "ticks": ""
             }
            },
            "marker": {
             "colorbar": {
              "outlinewidth": 0,
              "ticks": ""
             }
            },
            "type": "scatter3d"
           }
          ],
          "scattercarpet": [
           {
            "marker": {
             "colorbar": {
              "outlinewidth": 0,
              "ticks": ""
             }
            },
            "type": "scattercarpet"
           }
          ],
          "scattergeo": [
           {
            "marker": {
             "colorbar": {
              "outlinewidth": 0,
              "ticks": ""
             }
            },
            "type": "scattergeo"
           }
          ],
          "scattergl": [
           {
            "marker": {
             "colorbar": {
              "outlinewidth": 0,
              "ticks": ""
             }
            },
            "type": "scattergl"
           }
          ],
          "scattermapbox": [
           {
            "marker": {
             "colorbar": {
              "outlinewidth": 0,
              "ticks": ""
             }
            },
            "type": "scattermapbox"
           }
          ],
          "scatterpolar": [
           {
            "marker": {
             "colorbar": {
              "outlinewidth": 0,
              "ticks": ""
             }
            },
            "type": "scatterpolar"
           }
          ],
          "scatterpolargl": [
           {
            "marker": {
             "colorbar": {
              "outlinewidth": 0,
              "ticks": ""
             }
            },
            "type": "scatterpolargl"
           }
          ],
          "scatterternary": [
           {
            "marker": {
             "colorbar": {
              "outlinewidth": 0,
              "ticks": ""
             }
            },
            "type": "scatterternary"
           }
          ],
          "surface": [
           {
            "colorbar": {
             "outlinewidth": 0,
             "ticks": ""
            },
            "colorscale": [
             [
              0,
              "#0d0887"
             ],
             [
              0.1111111111111111,
              "#46039f"
             ],
             [
              0.2222222222222222,
              "#7201a8"
             ],
             [
              0.3333333333333333,
              "#9c179e"
             ],
             [
              0.4444444444444444,
              "#bd3786"
             ],
             [
              0.5555555555555556,
              "#d8576b"
             ],
             [
              0.6666666666666666,
              "#ed7953"
             ],
             [
              0.7777777777777778,
              "#fb9f3a"
             ],
             [
              0.8888888888888888,
              "#fdca26"
             ],
             [
              1,
              "#f0f921"
             ]
            ],
            "type": "surface"
           }
          ],
          "table": [
           {
            "cells": {
             "fill": {
              "color": "#EBF0F8"
             },
             "line": {
              "color": "white"
             }
            },
            "header": {
             "fill": {
              "color": "#C8D4E3"
             },
             "line": {
              "color": "white"
             }
            },
            "type": "table"
           }
          ]
         },
         "layout": {
          "annotationdefaults": {
           "arrowcolor": "#2a3f5f",
           "arrowhead": 0,
           "arrowwidth": 1
          },
          "autotypenumbers": "strict",
          "coloraxis": {
           "colorbar": {
            "outlinewidth": 0,
            "ticks": ""
           }
          },
          "colorscale": {
           "diverging": [
            [
             0,
             "#8e0152"
            ],
            [
             0.1,
             "#c51b7d"
            ],
            [
             0.2,
             "#de77ae"
            ],
            [
             0.3,
             "#f1b6da"
            ],
            [
             0.4,
             "#fde0ef"
            ],
            [
             0.5,
             "#f7f7f7"
            ],
            [
             0.6,
             "#e6f5d0"
            ],
            [
             0.7,
             "#b8e186"
            ],
            [
             0.8,
             "#7fbc41"
            ],
            [
             0.9,
             "#4d9221"
            ],
            [
             1,
             "#276419"
            ]
           ],
           "sequential": [
            [
             0,
             "#0d0887"
            ],
            [
             0.1111111111111111,
             "#46039f"
            ],
            [
             0.2222222222222222,
             "#7201a8"
            ],
            [
             0.3333333333333333,
             "#9c179e"
            ],
            [
             0.4444444444444444,
             "#bd3786"
            ],
            [
             0.5555555555555556,
             "#d8576b"
            ],
            [
             0.6666666666666666,
             "#ed7953"
            ],
            [
             0.7777777777777778,
             "#fb9f3a"
            ],
            [
             0.8888888888888888,
             "#fdca26"
            ],
            [
             1,
             "#f0f921"
            ]
           ],
           "sequentialminus": [
            [
             0,
             "#0d0887"
            ],
            [
             0.1111111111111111,
             "#46039f"
            ],
            [
             0.2222222222222222,
             "#7201a8"
            ],
            [
             0.3333333333333333,
             "#9c179e"
            ],
            [
             0.4444444444444444,
             "#bd3786"
            ],
            [
             0.5555555555555556,
             "#d8576b"
            ],
            [
             0.6666666666666666,
             "#ed7953"
            ],
            [
             0.7777777777777778,
             "#fb9f3a"
            ],
            [
             0.8888888888888888,
             "#fdca26"
            ],
            [
             1,
             "#f0f921"
            ]
           ]
          },
          "colorway": [
           "#636efa",
           "#EF553B",
           "#00cc96",
           "#ab63fa",
           "#FFA15A",
           "#19d3f3",
           "#FF6692",
           "#B6E880",
           "#FF97FF",
           "#FECB52"
          ],
          "font": {
           "color": "#2a3f5f"
          },
          "geo": {
           "bgcolor": "white",
           "lakecolor": "white",
           "landcolor": "#E5ECF6",
           "showlakes": true,
           "showland": true,
           "subunitcolor": "white"
          },
          "hoverlabel": {
           "align": "left"
          },
          "hovermode": "closest",
          "mapbox": {
           "style": "light"
          },
          "paper_bgcolor": "white",
          "plot_bgcolor": "#E5ECF6",
          "polar": {
           "angularaxis": {
            "gridcolor": "white",
            "linecolor": "white",
            "ticks": ""
           },
           "bgcolor": "#E5ECF6",
           "radialaxis": {
            "gridcolor": "white",
            "linecolor": "white",
            "ticks": ""
           }
          },
          "scene": {
           "xaxis": {
            "backgroundcolor": "#E5ECF6",
            "gridcolor": "white",
            "gridwidth": 2,
            "linecolor": "white",
            "showbackground": true,
            "ticks": "",
            "zerolinecolor": "white"
           },
           "yaxis": {
            "backgroundcolor": "#E5ECF6",
            "gridcolor": "white",
            "gridwidth": 2,
            "linecolor": "white",
            "showbackground": true,
            "ticks": "",
            "zerolinecolor": "white"
           },
           "zaxis": {
            "backgroundcolor": "#E5ECF6",
            "gridcolor": "white",
            "gridwidth": 2,
            "linecolor": "white",
            "showbackground": true,
            "ticks": "",
            "zerolinecolor": "white"
           }
          },
          "shapedefaults": {
           "line": {
            "color": "#2a3f5f"
           }
          },
          "ternary": {
           "aaxis": {
            "gridcolor": "white",
            "linecolor": "white",
            "ticks": ""
           },
           "baxis": {
            "gridcolor": "white",
            "linecolor": "white",
            "ticks": ""
           },
           "bgcolor": "#E5ECF6",
           "caxis": {
            "gridcolor": "white",
            "linecolor": "white",
            "ticks": ""
           }
          },
          "title": {
           "x": 0.05
          },
          "xaxis": {
           "automargin": true,
           "gridcolor": "white",
           "linecolor": "white",
           "ticks": "",
           "title": {
            "standoff": 15
           },
           "zerolinecolor": "white",
           "zerolinewidth": 2
          },
          "yaxis": {
           "automargin": true,
           "gridcolor": "white",
           "linecolor": "white",
           "ticks": "",
           "title": {
            "standoff": 15
           },
           "zerolinecolor": "white",
           "zerolinewidth": 2
          }
         }
        },
        "title": {
         "text": "Earthquake Density Map in Nepal(2015 and after)",
         "x": 0.5
        }
       }
      },
      "text/html": [
       "<div>                            <div id=\"bbdce29b-b52d-4906-9334-6775f015ff4b\" class=\"plotly-graph-div\" style=\"height:525px; width:100%;\"></div>            <script type=\"text/javascript\">                require([\"plotly\"], function(Plotly) {                    window.PLOTLYENV=window.PLOTLYENV || {};                                    if (document.getElementById(\"bbdce29b-b52d-4906-9334-6775f015ff4b\")) {                    Plotly.newPlot(                        \"bbdce29b-b52d-4906-9334-6775f015ff4b\",                        [{\"coloraxis\":\"coloraxis\",\"hovertemplate\":\"latitude=%{lat}<br>longitude=%{lon}<extra></extra>\",\"lat\":[27.92,29.29,29.35,29.08,28.45,28.36,28.45,28.45,28.35,28.48,29.61,29.7,29.66,29.45,29.6,29.58,29.61,29.58,29.59,29.58,29.42,29.52,29.5,29.49,29.78,29.41,29.64,29.75,29.69,29.64,29.63,29.63,29.54,29.81,29.79,30.0,29.72,29.68,29.73,29.78,29.74,29.78,29.75,29.38,29.42,29.68,29.71,29.64,29.75,29.35,29.41,29.61,29.59,29.58,29.57,29.68,29.71,29.81,29.35,29.44,29.69,29.71,28.24,27.7,27.67,27.37,27.09,26.75,28.95,28.98,28.98,28.98,28.94,28.93,28.94,29.02,28.9,28.94,29.78,30.0,29.82,29.89,29.82,29.88,29.83,29.8,29.8,28.26,27.92,27.85,28.01,27.95,27.85,27.7,27.69,27.75,27.82,28.11,27.87,27.79,27.73,28.01,27.83,28.04,27.74,27.92,27.73,28.14,27.75,28.01,28.07,28.0,27.95,27.99,28.02,28.11,27.92,27.93,27.91,28.1,28.06,27.94,28.05,27.98,27.93,27.86,28.19,27.9,26.93,29.98,27.76,27.66,27.67,27.64,27.79,27.66,27.62,27.88,27.65,27.79,27.71,27.69,27.8,27.76,27.66,27.66,27.68,27.7,27.7,27.72,27.63,27.62,27.66,27.56,27.62,27.73,27.66,27.67,27.65,27.78,27.82,27.84,27.76,27.69,27.72,27.56,27.72,27.65,27.63,27.75,27.7,27.79,27.86,27.8,27.71,27.68,27.69,27.71,27.71,27.76,27.6,27.82,27.64,27.66,27.68,27.87,27.93,27.71,27.87,27.59,27.69,27.63,27.64,27.66,27.59,27.68,27.68,27.61,27.66,27.86,27.63,27.8,27.6,27.69,27.67,27.71,27.74,27.66,27.67,27.7,27.74,27.73,27.67,27.67,27.62,27.87,27.58,27.76,27.7,27.76,27.78,27.82,27.59,27.59,27.77,27.59,27.71,27.63,27.84,27.71,27.74,27.8,27.76,27.76,27.67,27.74,27.69,27.63,27.85,27.84,27.66,27.69,27.71,27.84,27.73,27.64,27.6,27.66,27.65,27.74,27.69,27.63,27.61,27.92,27.83,27.71,27.75,27.67,27.62,27.66,27.68,27.84,27.79,27.79,27.7,27.75,27.65,27.63,27.82,27.85,27.6,27.7,27.8,27.69,27.68,27.79,27.66,27.68,27.84,27.73,27.82,27.72,27.7,27.71,27.72,27.62,27.76,27.73,27.69,27.68,27.76,27.68,27.63,27.69,27.84,27.69,27.74,27.69,27.74,27.79,27.66,27.74,27.7,27.74,27.65,27.81,27.83,27.65,27.84,27.68,27.67,27.82,27.6,27.69,29.1,29.38,29.38,29.38,28.57,28.17,28.12,28.1,27.9,28.18,28.15,28.0,28.17,27.99,28.03,28.01,28.08,28.15,28.12,28.14,28.18,28.17,28.26,28.21,28.17,28.01,28.13,28.07,28.16,28.01,28.12,28.08,28.24,28.19,28.29,28.2,28.1,28.26,28.32,28.31,27.98,28.24,28.14,28.16,28.18,28.28,28.24,28.24,28.28,29.75,29.89,30.3,30.37,30.22,30.11,30.1,30.0,30.31,29.73,27.08,30.2,28.95,28.8,28.85,29.35,27.65,29.38,28.43,28.33,28.34,28.4,27.68,27.78,27.72,27.7,27.7,27.68,27.7,27.64,27.68,27.68,27.75,27.67,27.71,27.67,27.67,27.69,27.68,27.5,27.67,27.55,27.65,27.64,27.57,27.5,27.63,27.64,27.67,27.57,27.56,29.89,27.16,27.28,27.65,27.57,27.58,27.54,27.45,27.52,28.15,28.29,28.13,28.24,28.27,28.27,28.26,28.26,28.28,28.25,28.21,28.21,28.31,28.29,27.63,28.78,29.64,29.66,29.62,28.5,28.5,28.43,26.76,27.87,27.83,27.87,27.93,28.08,27.86,28.06,27.87,27.96,27.94,28.06,27.78,27.8,27.79,28.04,28.05,27.79,27.93,27.97,28.01,27.92,27.79,27.75,27.8,27.79,27.97,27.8,27.79,28.04,27.78,27.77,27.8,27.8,27.79,27.84,27.99,27.78,27.8,27.79,28.0,27.91,27.34,27.34,27.11,27.79,27.66,27.7,27.6,27.66,27.38,27.36,27.48,27.35,27.48,27.58,27.57,28.03,28.04,28.05,28.02,28.03,28.0,28.06,28.01,28.02,28.06,28.02,28.04,28.04,28.04,28.04,28.05,28.26,28.24,28.05,28.25,28.05,28.29,28.1,28.14,28.05,28.1,28.14,28.29,28.2,28.13,28.8,28.83,28.65,28.62,28.68,28.66,27.3,27.58,27.8,27.79,27.47,27.8,27.97,27.94,27.98,27.87,27.86,27.92,27.75,27.84,27.85,27.94,27.94,27.8,27.77,27.92,27.96,27.92,27.94,27.9,27.91,27.9,27.69,27.85,27.88,27.78,27.89,27.8,27.8,27.8,28.1,28.06,27.72,28.07,28.15,27.91,27.92,27.71,27.91,27.77,27.95,27.79,27.94,27.93,27.96,27.86,27.91,27.92,27.96,27.93,27.97,27.79,27.93,27.89,27.84,27.9,27.69,27.79,27.81,27.84,27.95,27.83,28.01,27.86,27.87,27.77,27.75,27.92,27.72,27.85,27.97,27.8,27.93,27.92,27.85,27.87,27.96,27.8,27.87,27.8,27.9,27.79,27.84,27.79,27.98,27.94,27.89,27.91,27.84,27.78,27.9,27.92,27.7,27.84,27.91,27.99,27.88,27.75,27.94,27.77,27.96,27.75,27.95,27.69,28.09,27.89,27.72,27.93,27.95,27.75,27.88,27.92,27.95,27.93,27.96,27.76,27.88,27.89,27.83,27.92,27.82,27.93,27.82,27.77,27.97,27.94,27.91,28.04,27.95,27.72,27.89,27.82,27.79,27.6,27.93,27.93,27.75,27.87,27.78,27.9,27.77,27.92,27.95,27.73,27.73,27.91,27.86,28.0,27.78,27.89,27.99,27.94,27.77,27.86,27.81,27.8,27.85,27.89,27.86,27.8,27.8,27.96,26.68,27.55,27.52,27.86,27.82,27.83,27.42,27.3,27.31,27.9,27.89,27.78,27.66,27.77,27.73,27.82,27.81,27.5,27.31,27.36,27.74,27.75,27.88,28.07,28.27,28.26,27.97,28.03,28.04,27.94,28.34,27.99,28.41,26.98,26.88,26.94],\"lon\":[85.81,81.4,81.21,81.45,83.09,83.19,83.14,83.23,83.36,83.13,80.51,80.71,81.61,81.19,81.04,81.0,81.01,80.81,80.89,80.96,81.1,81.05,81.28,81.24,81.28,81.1,80.97,81.31,81.05,81.28,81.24,81.28,81.1,81.51,81.59,81.45,81.61,81.61,81.62,81.58,81.63,81.61,81.56,81.34,81.66,81.67,81.62,81.68,81.7,81.29,81.34,81.71,81.73,81.71,81.56,81.65,81.57,81.56,81.29,81.69,81.74,81.69,81.77,85.41,85.42,87.06,86.96,89.09,81.68,81.47,81.78,81.69,81.72,81.7,81.74,81.51,81.77,81.75,80.92,80.74,80.76,80.7,80.76,80.61,80.6,80.73,80.48,85.06,84.94,84.93,84.97,84.8,84.87,85.14,85.17,84.87,84.81,85.04,84.91,84.8,85.16,84.94,84.9,85.02,85.07,84.94,85.0,85.11,85.21,84.84,84.94,84.98,84.8,84.79,84.98,84.88,84.84,84.84,84.82,84.91,85.05,84.83,84.94,84.87,84.83,84.89,85.03,84.86,87.26,80.54,86.19,86.2,86.32,86.1,86.35,86.18,86.24,86.2,86.15,86.18,86.32,86.26,86.15,86.27,86.0,86.1,86.11,86.33,86.33,86.01,86.19,86.25,86.27,85.96,86.1,86.08,85.95,85.95,86.13,86.35,86.14,86.16,86.34,86.24,86.29,86.17,86.09,86.23,86.25,86.12,86.12,86.08,86.19,86.3,86.16,86.08,86.09,86.1,86.15,86.37,86.19,86.24,86.19,86.23,86.22,86.17,86.14,86.05,86.08,85.97,86.26,86.07,86.07,86.09,86.17,86.04,86.22,86.28,86.0,86.39,86.09,86.23,86.23,86.2,86.2,86.12,86.28,86.21,86.17,86.16,86.26,86.16,86.09,86.07,86.1,86.13,86.18,86.2,86.26,86.07,86.2,86.34,86.16,86.19,86.25,86.2,86.05,86.3,86.24,86.07,86.19,86.29,86.26,86.28,86.18,86.2,86.16,86.25,86.32,86.33,86.03,86.26,86.07,86.24,86.06,86.14,86.26,86.09,86.12,86.17,86.08,86.25,86.2,86.31,86.15,86.04,86.14,86.08,86.09,86.07,86.17,86.25,86.07,86.19,86.15,86.25,86.18,86.17,86.47,86.29,86.16,86.01,86.12,86.21,86.23,86.11,86.17,86.04,86.23,86.21,86.12,85.97,86.04,86.0,86.2,86.16,86.24,86.11,86.05,86.03,86.31,86.04,86.17,86.24,86.17,86.04,86.03,85.99,86.0,86.23,86.01,86.28,85.98,85.99,86.09,86.09,86.06,85.97,86.05,85.95,86.07,86.05,86.09,86.02,83.3,81.13,81.11,81.11,82.88,84.74,84.9,84.81,84.57,84.93,84.61,84.76,84.89,84.71,84.64,84.68,84.76,84.81,84.89,84.72,84.74,84.94,84.92,84.81,84.72,84.68,84.89,84.7,84.9,84.68,84.8,85.04,84.76,84.8,84.93,84.78,84.65,85.02,84.73,84.97,84.99,84.82,84.71,84.71,84.95,84.72,84.75,84.99,84.65,81.78,81.93,81.74,81.57,81.7,81.53,81.85,81.75,81.47,82.01,87.96,80.1,81.98,81.92,82.18,82.04,85.63,81.88,83.99,83.86,83.8,83.99,85.27,85.39,85.2,85.29,85.32,85.28,85.22,85.31,85.3,85.3,85.2,85.29,85.43,85.3,85.28,85.25,85.32,85.5,85.54,85.79,85.56,85.63,85.59,85.63,85.53,85.7,85.55,85.74,85.73,80.59,86.83,86.9,85.31,85.31,85.39,85.43,85.31,85.26,84.54,84.36,84.56,84.41,84.42,84.4,84.36,84.35,84.39,84.49,84.49,84.37,84.35,84.46,85.16,84.1,81.89,82.04,82.11,83.22,83.32,83.3,88.21,85.8,85.15,85.3,85.21,85.13,85.29,85.09,85.29,85.48,85.48,85.14,85.17,85.15,85.17,85.13,85.08,85.14,85.46,85.48,85.41,85.46,85.16,85.19,85.16,85.16,85.21,85.11,85.14,85.37,85.17,85.12,85.12,85.16,85.15,85.12,85.02,85.17,85.29,85.16,85.4,85.33,86.49,86.27,87.95,86.58,86.34,86.47,86.31,86.41,86.13,86.12,86.01,86.2,85.87,86.41,86.29,85.38,85.17,85.38,85.28,85.23,85.29,85.34,85.19,85.26,85.35,85.25,85.2,85.26,85.32,85.33,85.34,85.1,85.23,85.34,85.83,85.35,85.16,85.27,85.16,85.25,85.2,85.28,85.16,85.75,85.65,82.53,82.55,82.76,82.84,82.97,83.06,87.26,87.19,87.62,87.41,87.15,85.81,85.54,85.52,85.58,85.92,85.82,85.8,85.87,85.95,85.76,85.51,85.5,85.74,85.88,85.68,85.75,85.66,85.49,85.58,85.59,85.51,86.11,85.92,85.94,85.85,85.88,85.95,85.83,85.94,85.49,85.94,86.02,86.02,86.06,85.81,85.81,85.92,85.8,85.88,85.59,85.79,85.72,85.94,85.68,85.77,85.77,85.66,85.62,85.5,85.55,85.85,85.59,85.73,85.73,85.87,85.93,85.73,85.72,85.71,85.52,85.83,85.8,85.72,85.77,85.87,86.01,85.69,85.75,85.74,85.62,85.74,85.64,85.68,85.75,85.72,85.73,85.78,85.81,85.61,85.64,85.78,85.78,85.87,85.51,85.54,85.53,85.53,86.0,85.93,85.99,86.04,85.85,85.84,85.75,85.86,86.0,85.91,85.58,85.88,86.0,85.87,85.86,85.93,85.72,85.73,85.74,85.5,85.73,85.95,85.87,85.87,85.52,85.63,85.55,85.8,85.88,85.76,85.83,85.51,85.89,85.86,85.76,85.91,85.81,85.55,85.55,85.5,85.87,85.97,85.6,85.8,86.0,85.96,85.56,85.56,85.94,85.8,85.98,85.53,85.83,85.64,85.56,85.9,85.9,85.5,85.85,85.6,85.84,85.75,85.65,85.52,85.7,85.76,85.71,85.75,85.75,85.73,85.87,86.0,85.82,85.54,86.27,86.59,86.39,87.89,88.02,87.95,87.47,87.73,87.94,87.86,87.91,88.15,87.62,87.86,87.87,87.98,88.18,88.04,87.9,88.01,88.13,88.04,88.13,85.96,85.94,85.86,86.45,86.36,85.96,86.05,85.91,85.71,85.8,86.69,86.59,86.67],\"name\":\"\",\"opacity\":0.8,\"radius\":5,\"subplot\":\"mapbox\",\"type\":\"densitymapbox\"}],                        {\"template\":{\"data\":{\"histogram2dcontour\":[{\"type\":\"histogram2dcontour\",\"colorbar\":{\"outlinewidth\":0,\"ticks\":\"\"},\"colorscale\":[[0.0,\"#0d0887\"],[0.1111111111111111,\"#46039f\"],[0.2222222222222222,\"#7201a8\"],[0.3333333333333333,\"#9c179e\"],[0.4444444444444444,\"#bd3786\"],[0.5555555555555556,\"#d8576b\"],[0.6666666666666666,\"#ed7953\"],[0.7777777777777778,\"#fb9f3a\"],[0.8888888888888888,\"#fdca26\"],[1.0,\"#f0f921\"]]}],\"choropleth\":[{\"type\":\"choropleth\",\"colorbar\":{\"outlinewidth\":0,\"ticks\":\"\"}}],\"histogram2d\":[{\"type\":\"histogram2d\",\"colorbar\":{\"outlinewidth\":0,\"ticks\":\"\"},\"colorscale\":[[0.0,\"#0d0887\"],[0.1111111111111111,\"#46039f\"],[0.2222222222222222,\"#7201a8\"],[0.3333333333333333,\"#9c179e\"],[0.4444444444444444,\"#bd3786\"],[0.5555555555555556,\"#d8576b\"],[0.6666666666666666,\"#ed7953\"],[0.7777777777777778,\"#fb9f3a\"],[0.8888888888888888,\"#fdca26\"],[1.0,\"#f0f921\"]]}],\"heatmap\":[{\"type\":\"heatmap\",\"colorbar\":{\"outlinewidth\":0,\"ticks\":\"\"},\"colorscale\":[[0.0,\"#0d0887\"],[0.1111111111111111,\"#46039f\"],[0.2222222222222222,\"#7201a8\"],[0.3333333333333333,\"#9c179e\"],[0.4444444444444444,\"#bd3786\"],[0.5555555555555556,\"#d8576b\"],[0.6666666666666666,\"#ed7953\"],[0.7777777777777778,\"#fb9f3a\"],[0.8888888888888888,\"#fdca26\"],[1.0,\"#f0f921\"]]}],\"heatmapgl\":[{\"type\":\"heatmapgl\",\"colorbar\":{\"outlinewidth\":0,\"ticks\":\"\"},\"colorscale\":[[0.0,\"#0d0887\"],[0.1111111111111111,\"#46039f\"],[0.2222222222222222,\"#7201a8\"],[0.3333333333333333,\"#9c179e\"],[0.4444444444444444,\"#bd3786\"],[0.5555555555555556,\"#d8576b\"],[0.6666666666666666,\"#ed7953\"],[0.7777777777777778,\"#fb9f3a\"],[0.8888888888888888,\"#fdca26\"],[1.0,\"#f0f921\"]]}],\"contourcarpet\":[{\"type\":\"contourcarpet\",\"colorbar\":{\"outlinewidth\":0,\"ticks\":\"\"}}],\"contour\":[{\"type\":\"contour\",\"colorbar\":{\"outlinewidth\":0,\"ticks\":\"\"},\"colorscale\":[[0.0,\"#0d0887\"],[0.1111111111111111,\"#46039f\"],[0.2222222222222222,\"#7201a8\"],[0.3333333333333333,\"#9c179e\"],[0.4444444444444444,\"#bd3786\"],[0.5555555555555556,\"#d8576b\"],[0.6666666666666666,\"#ed7953\"],[0.7777777777777778,\"#fb9f3a\"],[0.8888888888888888,\"#fdca26\"],[1.0,\"#f0f921\"]]}],\"surface\":[{\"type\":\"surface\",\"colorbar\":{\"outlinewidth\":0,\"ticks\":\"\"},\"colorscale\":[[0.0,\"#0d0887\"],[0.1111111111111111,\"#46039f\"],[0.2222222222222222,\"#7201a8\"],[0.3333333333333333,\"#9c179e\"],[0.4444444444444444,\"#bd3786\"],[0.5555555555555556,\"#d8576b\"],[0.6666666666666666,\"#ed7953\"],[0.7777777777777778,\"#fb9f3a\"],[0.8888888888888888,\"#fdca26\"],[1.0,\"#f0f921\"]]}],\"mesh3d\":[{\"type\":\"mesh3d\",\"colorbar\":{\"outlinewidth\":0,\"ticks\":\"\"}}],\"scatter\":[{\"fillpattern\":{\"fillmode\":\"overlay\",\"size\":10,\"solidity\":0.2},\"type\":\"scatter\"}],\"parcoords\":[{\"type\":\"parcoords\",\"line\":{\"colorbar\":{\"outlinewidth\":0,\"ticks\":\"\"}}}],\"scatterpolargl\":[{\"type\":\"scatterpolargl\",\"marker\":{\"colorbar\":{\"outlinewidth\":0,\"ticks\":\"\"}}}],\"bar\":[{\"error_x\":{\"color\":\"#2a3f5f\"},\"error_y\":{\"color\":\"#2a3f5f\"},\"marker\":{\"line\":{\"color\":\"#E5ECF6\",\"width\":0.5},\"pattern\":{\"fillmode\":\"overlay\",\"size\":10,\"solidity\":0.2}},\"type\":\"bar\"}],\"scattergeo\":[{\"type\":\"scattergeo\",\"marker\":{\"colorbar\":{\"outlinewidth\":0,\"ticks\":\"\"}}}],\"scatterpolar\":[{\"type\":\"scatterpolar\",\"marker\":{\"colorbar\":{\"outlinewidth\":0,\"ticks\":\"\"}}}],\"histogram\":[{\"marker\":{\"pattern\":{\"fillmode\":\"overlay\",\"size\":10,\"solidity\":0.2}},\"type\":\"histogram\"}],\"scattergl\":[{\"type\":\"scattergl\",\"marker\":{\"colorbar\":{\"outlinewidth\":0,\"ticks\":\"\"}}}],\"scatter3d\":[{\"type\":\"scatter3d\",\"line\":{\"colorbar\":{\"outlinewidth\":0,\"ticks\":\"\"}},\"marker\":{\"colorbar\":{\"outlinewidth\":0,\"ticks\":\"\"}}}],\"scattermapbox\":[{\"type\":\"scattermapbox\",\"marker\":{\"colorbar\":{\"outlinewidth\":0,\"ticks\":\"\"}}}],\"scatterternary\":[{\"type\":\"scatterternary\",\"marker\":{\"colorbar\":{\"outlinewidth\":0,\"ticks\":\"\"}}}],\"scattercarpet\":[{\"type\":\"scattercarpet\",\"marker\":{\"colorbar\":{\"outlinewidth\":0,\"ticks\":\"\"}}}],\"carpet\":[{\"aaxis\":{\"endlinecolor\":\"#2a3f5f\",\"gridcolor\":\"white\",\"linecolor\":\"white\",\"minorgridcolor\":\"white\",\"startlinecolor\":\"#2a3f5f\"},\"baxis\":{\"endlinecolor\":\"#2a3f5f\",\"gridcolor\":\"white\",\"linecolor\":\"white\",\"minorgridcolor\":\"white\",\"startlinecolor\":\"#2a3f5f\"},\"type\":\"carpet\"}],\"table\":[{\"cells\":{\"fill\":{\"color\":\"#EBF0F8\"},\"line\":{\"color\":\"white\"}},\"header\":{\"fill\":{\"color\":\"#C8D4E3\"},\"line\":{\"color\":\"white\"}},\"type\":\"table\"}],\"barpolar\":[{\"marker\":{\"line\":{\"color\":\"#E5ECF6\",\"width\":0.5},\"pattern\":{\"fillmode\":\"overlay\",\"size\":10,\"solidity\":0.2}},\"type\":\"barpolar\"}],\"pie\":[{\"automargin\":true,\"type\":\"pie\"}]},\"layout\":{\"autotypenumbers\":\"strict\",\"colorway\":[\"#636efa\",\"#EF553B\",\"#00cc96\",\"#ab63fa\",\"#FFA15A\",\"#19d3f3\",\"#FF6692\",\"#B6E880\",\"#FF97FF\",\"#FECB52\"],\"font\":{\"color\":\"#2a3f5f\"},\"hovermode\":\"closest\",\"hoverlabel\":{\"align\":\"left\"},\"paper_bgcolor\":\"white\",\"plot_bgcolor\":\"#E5ECF6\",\"polar\":{\"bgcolor\":\"#E5ECF6\",\"angularaxis\":{\"gridcolor\":\"white\",\"linecolor\":\"white\",\"ticks\":\"\"},\"radialaxis\":{\"gridcolor\":\"white\",\"linecolor\":\"white\",\"ticks\":\"\"}},\"ternary\":{\"bgcolor\":\"#E5ECF6\",\"aaxis\":{\"gridcolor\":\"white\",\"linecolor\":\"white\",\"ticks\":\"\"},\"baxis\":{\"gridcolor\":\"white\",\"linecolor\":\"white\",\"ticks\":\"\"},\"caxis\":{\"gridcolor\":\"white\",\"linecolor\":\"white\",\"ticks\":\"\"}},\"coloraxis\":{\"colorbar\":{\"outlinewidth\":0,\"ticks\":\"\"}},\"colorscale\":{\"sequential\":[[0.0,\"#0d0887\"],[0.1111111111111111,\"#46039f\"],[0.2222222222222222,\"#7201a8\"],[0.3333333333333333,\"#9c179e\"],[0.4444444444444444,\"#bd3786\"],[0.5555555555555556,\"#d8576b\"],[0.6666666666666666,\"#ed7953\"],[0.7777777777777778,\"#fb9f3a\"],[0.8888888888888888,\"#fdca26\"],[1.0,\"#f0f921\"]],\"sequentialminus\":[[0.0,\"#0d0887\"],[0.1111111111111111,\"#46039f\"],[0.2222222222222222,\"#7201a8\"],[0.3333333333333333,\"#9c179e\"],[0.4444444444444444,\"#bd3786\"],[0.5555555555555556,\"#d8576b\"],[0.6666666666666666,\"#ed7953\"],[0.7777777777777778,\"#fb9f3a\"],[0.8888888888888888,\"#fdca26\"],[1.0,\"#f0f921\"]],\"diverging\":[[0,\"#8e0152\"],[0.1,\"#c51b7d\"],[0.2,\"#de77ae\"],[0.3,\"#f1b6da\"],[0.4,\"#fde0ef\"],[0.5,\"#f7f7f7\"],[0.6,\"#e6f5d0\"],[0.7,\"#b8e186\"],[0.8,\"#7fbc41\"],[0.9,\"#4d9221\"],[1,\"#276419\"]]},\"xaxis\":{\"gridcolor\":\"white\",\"linecolor\":\"white\",\"ticks\":\"\",\"title\":{\"standoff\":15},\"zerolinecolor\":\"white\",\"automargin\":true,\"zerolinewidth\":2},\"yaxis\":{\"gridcolor\":\"white\",\"linecolor\":\"white\",\"ticks\":\"\",\"title\":{\"standoff\":15},\"zerolinecolor\":\"white\",\"automargin\":true,\"zerolinewidth\":2},\"scene\":{\"xaxis\":{\"backgroundcolor\":\"#E5ECF6\",\"gridcolor\":\"white\",\"linecolor\":\"white\",\"showbackground\":true,\"ticks\":\"\",\"zerolinecolor\":\"white\",\"gridwidth\":2},\"yaxis\":{\"backgroundcolor\":\"#E5ECF6\",\"gridcolor\":\"white\",\"linecolor\":\"white\",\"showbackground\":true,\"ticks\":\"\",\"zerolinecolor\":\"white\",\"gridwidth\":2},\"zaxis\":{\"backgroundcolor\":\"#E5ECF6\",\"gridcolor\":\"white\",\"linecolor\":\"white\",\"showbackground\":true,\"ticks\":\"\",\"zerolinecolor\":\"white\",\"gridwidth\":2}},\"shapedefaults\":{\"line\":{\"color\":\"#2a3f5f\"}},\"annotationdefaults\":{\"arrowcolor\":\"#2a3f5f\",\"arrowhead\":0,\"arrowwidth\":1},\"geo\":{\"bgcolor\":\"white\",\"landcolor\":\"#E5ECF6\",\"subunitcolor\":\"white\",\"showland\":true,\"showlakes\":true,\"lakecolor\":\"white\"},\"title\":{\"x\":0.05},\"mapbox\":{\"style\":\"light\"}}},\"mapbox\":{\"domain\":{\"x\":[0.0,1.0],\"y\":[0.0,1.0]},\"center\":{\"lat\":28.23,\"lon\":83.64},\"zoom\":5.5,\"style\":\"stamen-terrain\"},\"coloraxis\":{\"colorscale\":[[0.0,\"#440154\"],[0.1111111111111111,\"#482878\"],[0.2222222222222222,\"#3e4989\"],[0.3333333333333333,\"#31688e\"],[0.4444444444444444,\"#26828e\"],[0.5555555555555556,\"#1f9e89\"],[0.6666666666666666,\"#35b779\"],[0.7777777777777778,\"#6ece58\"],[0.8888888888888888,\"#b5de2b\"],[1.0,\"#fde725\"]],\"colorbar\":{\"title\":{\"text\":\"Earthquake Density\"},\"tickvals\":[0,0.25,0.5,0.75,1],\"ticktext\":[\"Low\",\"Moderately low\",\"High\",\"moderately high\",\"Very High\"]}},\"legend\":{\"tracegroupgap\":0},\"title\":{\"text\":\"Earthquake Density Map in Nepal(2015 and after)\",\"x\":0.5},\"margin\":{\"l\":20,\"r\":0,\"t\":30,\"b\":0}},                        {\"responsive\": true}                    ).then(function(){\n",
       "                            \n",
       "var gd = document.getElementById('bbdce29b-b52d-4906-9334-6775f015ff4b');\n",
       "var x = new MutationObserver(function (mutations, observer) {{\n",
       "        var display = window.getComputedStyle(gd).display;\n",
       "        if (!display || display === 'none') {{\n",
       "            console.log([gd, 'removed!']);\n",
       "            Plotly.purge(gd);\n",
       "            observer.disconnect();\n",
       "        }}\n",
       "}});\n",
       "\n",
       "// Listen for the removal of the full notebook cells\n",
       "var notebookContainer = gd.closest('#notebook-container');\n",
       "if (notebookContainer) {{\n",
       "    x.observe(notebookContainer, {childList: true});\n",
       "}}\n",
       "\n",
       "// Listen for the clearing of the current output cell\n",
       "var outputEl = gd.closest('.output');\n",
       "if (outputEl) {{\n",
       "    x.observe(outputEl, {childList: true});\n",
       "}}\n",
       "\n",
       "                        })                };                });            </script>        </div>"
      ]
     },
     "metadata": {},
     "output_type": "display_data"
    }
   ],
   "source": [
    "fig.update_layout(\n",
    "    coloraxis_colorbar=dict(\n",
    "        title=\"Earthquake Density\",\n",
    "        tickvals=[0, 0.25, 0.5,0.75, 1],  # Adjust tick values as needed\n",
    "        ticktext=[\"Low\", \"Moderately low\", \"High\",\"moderately high\", \"Very High\"],  # Adjust labels as needed\n",
    "    ),\n",
    "    title_x = 0.5,\n",
    "    margin = dict(l=20, r=0, t=30, b=0)\n",
    "    \n",
    ")"
   ]
  },
  {
   "cell_type": "code",
   "execution_count": 72,
   "id": "82d1c21d",
   "metadata": {},
   "outputs": [
    {
     "data": {
      "application/vnd.plotly.v1+json": {
       "config": {
        "plotlyServerURL": "https://plot.ly"
       },
       "data": [
        {
         "coloraxis": "coloraxis",
         "hovertemplate": "latitude=%{lat}<br>longitude=%{lon}<extra></extra>",
         "lat": [
          28.43,
          29.75,
          28.15,
          29.78,
          29.72,
          29.66,
          29.68,
          28.62,
          29.73,
          29.78,
          29.89,
          29.74,
          29.78,
          29.75,
          29.38,
          28.17,
          27.76,
          28.12,
          27.86,
          29.42,
          29.64,
          28.95,
          29.29,
          27.57,
          27.82,
          27.08,
          29.68,
          27.83,
          28.8,
          29.71,
          27.42,
          29.64,
          29.75,
          27.8,
          28.45,
          28.36,
          28.45,
          29.1,
          30,
          28.26,
          26.93,
          29.35,
          29.45,
          29.35,
          29.38,
          29.38,
          29.38,
          29.6,
          28.07,
          28.15,
          28.24,
          27.97,
          27.83,
          27.16,
          27.94,
          29.41,
          29.82,
          27.66,
          28.1,
          28.33,
          27.7,
          29.61,
          27.3,
          27.31,
          29.35,
          29.58,
          27.9,
          29.7,
          27.9,
          27.98,
          28.68,
          27.67,
          27.87,
          28.29,
          27.86,
          27.85,
          27.92,
          27.92,
          28.18,
          27.91,
          27.92,
          27.71,
          27.91,
          29.89,
          27.64,
          29.61,
          26.98,
          27.28,
          28.98,
          28.13,
          29.79,
          27.3,
          28.24,
          28.27,
          28.27,
          28.26,
          28.26,
          28.28,
          26.75,
          27.5,
          27.79,
          27.89,
          27.78,
          28.78,
          27.66,
          29.89,
          27.66,
          27.66,
          27.77,
          27.75,
          27.73,
          29.58,
          27.62,
          27.77,
          26.76,
          27.92,
          27.58,
          29.59,
          27.8,
          27.88,
          27.85,
          29.73,
          27.65,
          27.55,
          29.58,
          28.01,
          28.34,
          27.79,
          29.71,
          29.61,
          29.59,
          29.58,
          27.95,
          27.79,
          29.42,
          30.2,
          28.45,
          29.66,
          26.88,
          27.82,
          28.66,
          30,
          28.28,
          27.71,
          28.25,
          28.15,
          28.21,
          29.8,
          30.3,
          27.52,
          27.69,
          28.5,
          27.8,
          27.67,
          27.95,
          28.95,
          29.52,
          29.62,
          29.5,
          27.7,
          28.21,
          27.85,
          28.98,
          27.94,
          27.93,
          27.7,
          27.69,
          28,
          29.49,
          28.03,
          27.76,
          28.98,
          27.63,
          27.84,
          27.66,
          27.68,
          27.81,
          27.09,
          27.6,
          27.85,
          27.72,
          28.94,
          28.93,
          28.94,
          28.57,
          27.79,
          27.5,
          27.66,
          27.94,
          27.75,
          29.02,
          27.82,
          29.57,
          28.11,
          27.87,
          27.31,
          27.36,
          29.68,
          27.68,
          28.17,
          28.9,
          29.98,
          27.74,
          27.7,
          27.7,
          28.07,
          27.72,
          29.82,
          27.96,
          27.63,
          29.78,
          29.08,
          28.5,
          28.83,
          27.62,
          28.06,
          29.41,
          27.66,
          27.56,
          28.94,
          27.34,
          27.66,
          27.88,
          27.62,
          29.64,
          27.86,
          29.75,
          30.37,
          27.38,
          27.36,
          27.79,
          29.88,
          27.73,
          29.71,
          27.79,
          29.69,
          27.87,
          28.04,
          27.66,
          27.67,
          27.65,
          27.91,
          27.78,
          27.82,
          29.81,
          27.99,
          27.84,
          27.92,
          28.31,
          29.64,
          29.63,
          29.63,
          27.76,
          27.93,
          28.03,
          27.96,
          27.94,
          27.73,
          27.93,
          27.97,
          27.69,
          28.01,
          28.01,
          28.24,
          29.38,
          29.54,
          28.05,
          28.08,
          27.79,
          27.72,
          27.56,
          27.65,
          27.72,
          29.81,
          27.93,
          27.89,
          27.75,
          27.34,
          27.84,
          27.83,
          27.9,
          30.22,
          27.69,
          27.79,
          27.8,
          27.47,
          28.08,
          27.86,
          27.81,
          27.84,
          27.95,
          26.68,
          27.83,
          28.06,
          27.65,
          27.63,
          27.48,
          27.75,
          28.01,
          27.86,
          27.7,
          29.35,
          27.79,
          29.44,
          28.04,
          27.86,
          27.78,
          27.11,
          27.63,
          27.87,
          28.15,
          27.87,
          28.43,
          28.35,
          27.77,
          27.89,
          28.02,
          27.99,
          28.03,
          27.8,
          27.71,
          27.96,
          27.57,
          27.68,
          27.69,
          27.71,
          27.71,
          27.77,
          29.83,
          27.74,
          27.76,
          27.6,
          27.82,
          27.75,
          27.64,
          27.92,
          27.92,
          27.72,
          27.66,
          27.85,
          28.12,
          30.11,
          27.68,
          27.87,
          27.96,
          28,
          27.93,
          27.71,
          27.87,
          27.59,
          27.72,
          27.7,
          28.14,
          30.1,
          27.94,
          27.69,
          27.77,
          27.5,
          27.86,
          27.63,
          27.64,
          27.81,
          27.66,
          27.59,
          27.68,
          27.8,
          27.94,
          27.85,
          27.68,
          27.61,
          27.66,
          27.7,
          27.86,
          28.18,
          29.8,
          27.63,
          28.06,
          27.8,
          27.89,
          27.6,
          27.92,
          29.69,
          28.48,
          27.96,
          27.69,
          27.86,
          27.67,
          27.73,
          27.67,
          27.97,
          27.8,
          28.06,
          27.71,
          27.55,
          27.35,
          27.93,
          27.92,
          27.92,
          27.74,
          27.58,
          27.94,
          27.66,
          27.78,
          27.85,
          27.67,
          27.8,
          28.17,
          28.65,
          28.26,
          28.14,
          28.27,
          27.9,
          27.91,
          27.68,
          27.7,
          27.87,
          27.74,
          27.8,
          27.73,
          28.21,
          27.67,
          27.67,
          27.96,
          27.8,
          27.87,
          27.62,
          27.8,
          27.87,
          27.9,
          28.26,
          27.58,
          27.7,
          27.79,
          27.76,
          27.84,
          27.7,
          27.76,
          27.79,
          30,
          27.78,
          27.98,
          28.29,
          27.79,
          28.01,
          27.75,
          27.82,
          28.01,
          28.17,
          28.07,
          28,
          27.59,
          27.59,
          27.94,
          27.77,
          27.64,
          27.95,
          27.99,
          27.59,
          28.04,
          27.89,
          27.91,
          28.02,
          27.54,
          27.71,
          27.63,
          27.84,
          27.71,
          27.74,
          28.01,
          27.8,
          27.84,
          27.76,
          27.76,
          27.67,
          27.9,
          27.74,
          27.69,
          30.31,
          27.78,
          27.63,
          28.05,
          27.79,
          28.02,
          27.93,
          27.85,
          27.84,
          27.52,
          27.9,
          27.92,
          27.66,
          27.69,
          27.71,
          28.11,
          27.48,
          27.84,
          27.73,
          27.45,
          27.7,
          27.64,
          28.13,
          27.97,
          27.6,
          27.66,
          27.65,
          28.07,
          27.74,
          27.92,
          27.93,
          27.69,
          27.63,
          27.61,
          27.92,
          27.84,
          27.83,
          27.8,
          27.71,
          28.06,
          27.75,
          27.67,
          27.62,
          27.66,
          27.68,
          27.84,
          27.79,
          27.69,
          27.79,
          27.7,
          27.64,
          27.75,
          27.65,
          27.63,
          27.82,
          27.85,
          27.85,
          27.91,
          27.6,
          27.68,
          27.7,
          27.8,
          27.69,
          27.68,
          27.88,
          27.79,
          27.66,
          28.1,
          27.58,
          27.68,
          27.97,
          28.03,
          27.84,
          27.73,
          27.78,
          27.82,
          27.72,
          27.89,
          27.7,
          27.71,
          27.72,
          27.62,
          27.76,
          27.73,
          27.69,
          27.57,
          27.68,
          27.8,
          27.76,
          28.16,
          27.8,
          27.8,
          27.68,
          27.63,
          27.69,
          27.84,
          27.91,
          27.99,
          28.02,
          27.88,
          27.65,
          26.94,
          28.04,
          28.04,
          27.75,
          27.69,
          28.01,
          27.94,
          27.77,
          27.92,
          27.79,
          27.75,
          28.04,
          28.01,
          28.06,
          27.96,
          27.74,
          27.8,
          27.79,
          27.97,
          27.69,
          27.74,
          27.75,
          27.95,
          27.79,
          28.12,
          27.69,
          27.94,
          28.05,
          28.09,
          27.98,
          27.89,
          28.08,
          27.8,
          28.24,
          27.72,
          27.93,
          27.66,
          27.74,
          27.95,
          27.7,
          28.04,
          28.04,
          27.75,
          27.88,
          27.74,
          27.68,
          27.92,
          28.05,
          27.93,
          27.65,
          28.19,
          27.79,
          27.95,
          27.93,
          27.86,
          28.04,
          28.29,
          27.96,
          28.2,
          27.76,
          27.81,
          28.1,
          27.88,
          27.78,
          28.1,
          27.89,
          27.83,
          27.92,
          27.75,
          28.26,
          28.19,
          27.82,
          27.93,
          28.24,
          27.67,
          27.67,
          27.77,
          27.82,
          27.57,
          27.56,
          27.8,
          27.77,
          27.97,
          27.71,
          27.94,
          27.91,
          28.26,
          27.83,
          28.04,
          27.95,
          27.67,
          27.65,
          27.64,
          27.8,
          28.32,
          28.31,
          27.72,
          27.79,
          27.84,
          27.68,
          27.89,
          27.84,
          27.67,
          28.05,
          27.67,
          27.69,
          27.99,
          27.82,
          27.98,
          27.79,
          27.6,
          28.24,
          28.25,
          27.93,
          28.14,
          28.05,
          27.93,
          27.94,
          27.75,
          27.87,
          28.29,
          27.78,
          28.1,
          28.34,
          27.78,
          27.9,
          27.77,
          27.8,
          27.92,
          27.95,
          28.14,
          27.73,
          28.05,
          27.73,
          27.68,
          27.79,
          28.1,
          28.16,
          27.82,
          28,
          28.14,
          27.91,
          27.86,
          27.87,
          28.29,
          28,
          27.91,
          27.65,
          28.18,
          27.6,
          27.9,
          27.78,
          27.99,
          27.69,
          28.2,
          28.13,
          28.28,
          28.41,
          28.24,
          28.4,
          28.8,
          28.85
         ],
         "lon": [
          83.99,
          81.78,
          84.54,
          80.92,
          81.61,
          81.61,
          81.61,
          82.84,
          81.62,
          81.58,
          81.93,
          81.63,
          81.61,
          81.56,
          81.34,
          84.74,
          86.19,
          84.9,
          87.89,
          81.66,
          81.89,
          81.68,
          81.4,
          85.59,
          88.02,
          87.96,
          81.67,
          87.95,
          82.53,
          81.62,
          87.47,
          81.68,
          81.7,
          85.81,
          83.09,
          83.19,
          83.14,
          83.3,
          80.74,
          85.06,
          87.26,
          81.21,
          81.19,
          81.29,
          81.13,
          81.11,
          81.11,
          81.04,
          86.02,
          86.06,
          81.77,
          85.54,
          85.15,
          86.83,
          85.52,
          81.34,
          80.76,
          86.2,
          84.81,
          83.86,
          85.41,
          80.51,
          87.73,
          87.94,
          82.04,
          81,
          87.86,
          80.71,
          84.57,
          85.58,
          82.97,
          86.32,
          85.92,
          84.36,
          85.82,
          85.81,
          85.81,
          85.8,
          84.93,
          85.81,
          85.81,
          85.92,
          85.8,
          80.59,
          86.1,
          81.01,
          86.69,
          86.9,
          81.47,
          84.56,
          81.59,
          87.26,
          84.41,
          84.42,
          84.4,
          84.36,
          84.35,
          84.39,
          89.09,
          85.63,
          86.35,
          87.91,
          88.15,
          84.1,
          86.18,
          80.7,
          87.62,
          86.34,
          87.86,
          85.87,
          87.87,
          80.81,
          86.24,
          85.88,
          88.21,
          84.94,
          87.19,
          80.89,
          87.62,
          86.2,
          84.93,
          82.01,
          86.15,
          86.59,
          80.96,
          84.97,
          83.8,
          86.18,
          81.69,
          81.71,
          81.73,
          81.71,
          85.59,
          85.79,
          81.1,
          80.1,
          83.23,
          82.04,
          86.59,
          87.98,
          83.06,
          81.45,
          84.65,
          86.32,
          84.49,
          84.61,
          84.49,
          80.48,
          81.74,
          86.39,
          86.26,
          83.22,
          86.15,
          85.42,
          84.8,
          81.98,
          81.05,
          82.11,
          81.28,
          86.47,
          84.37,
          84.87,
          81.78,
          85.72,
          85.94,
          85.14,
          85.17,
          84.76,
          81.24,
          85.38,
          86.27,
          81.69,
          85.16,
          85.95,
          86,
          85.27,
          88.18,
          86.96,
          86.31,
          85.76,
          86.02,
          81.72,
          81.7,
          81.74,
          82.88,
          87.41,
          88.04,
          86.1,
          85.51,
          84.87,
          81.51,
          84.81,
          81.56,
          85.04,
          84.91,
          87.9,
          88.01,
          81.65,
          86.11,
          84.89,
          81.77,
          80.54,
          88.13,
          86.33,
          86.33,
          85.96,
          86.01,
          80.76,
          85.68,
          86.19,
          81.28,
          81.45,
          83.32,
          82.55,
          86.25,
          85.94,
          81.1,
          86.27,
          85.96,
          81.75,
          86.49,
          86.41,
          88.13,
          86.1,
          80.97,
          85.77,
          81.31,
          81.57,
          86.13,
          86.12,
          84.8,
          80.61,
          86.08,
          81.57,
          86.58,
          81.05,
          85.3,
          85.17,
          85.95,
          85.95,
          86.13,
          85.77,
          86.35,
          86.14,
          81.56,
          84.71,
          86.16,
          85.66,
          84.35,
          81.28,
          81.24,
          81.28,
          86.34,
          85.21,
          84.64,
          85.62,
          85.5,
          85.16,
          85.5,
          85.55,
          86.24,
          84.68,
          84.94,
          84.99,
          81.88,
          81.1,
          85.38,
          85.13,
          85.85,
          86.29,
          86.17,
          85.31,
          86.09,
          81.51,
          85.59,
          85.73,
          88.04,
          86.27,
          85.73,
          84.9,
          85.87,
          81.7,
          85.93,
          85.73,
          85.74,
          87.15,
          84.76,
          85.29,
          85.72,
          85.71,
          85.52,
          86.27,
          85.83,
          85.09,
          86.23,
          86.25,
          86.01,
          86.12,
          85.8,
          85.72,
          86.12,
          81.29,
          86.08,
          81.69,
          85.02,
          86.19,
          85.39,
          87.95,
          85.53,
          85.77,
          84.81,
          85.29,
          83.3,
          83.36,
          85.88,
          85.75,
          85.28,
          85.65,
          85.23,
          86.3,
          86.16,
          85.54,
          85.31,
          86.08,
          86.09,
          86.1,
          86.15,
          85.87,
          80.6,
          85.07,
          86.37,
          86.19,
          86.24,
          86.01,
          86.19,
          85.69,
          84.94,
          85.75,
          86.23,
          85.74,
          84.89,
          81.53,
          86.22,
          86.17,
          85.48,
          85.29,
          86.14,
          86.05,
          86.08,
          85.97,
          85.2,
          85.29,
          84.72,
          81.85,
          85.52,
          86.26,
          85.7,
          85.5,
          85.76,
          86.07,
          86.07,
          85.71,
          86.09,
          86.17,
          86.04,
          85.75,
          85.48,
          85.75,
          86.22,
          86.28,
          86,
          85.32,
          86.39,
          84.74,
          80.73,
          86.09,
          85.34,
          86.23,
          85.73,
          86.23,
          85.68,
          81.74,
          83.13,
          85.75,
          86.2,
          85.87,
          86.2,
          85,
          85.54,
          85.62,
          85.74,
          85.14,
          86.12,
          85.79,
          86.2,
          85.64,
          85.68,
          85.66,
          86.28,
          85.39,
          85.49,
          86.21,
          85.17,
          85.75,
          86.17,
          86,
          84.94,
          82.76,
          84.92,
          85.11,
          85.94,
          85.58,
          85.59,
          85.28,
          86.16,
          85.72,
          86.26,
          85.15,
          86.16,
          84.81,
          86.09,
          86.07,
          85.73,
          85.78,
          85.81,
          86.1,
          85.61,
          86.13,
          85.64,
          85.86,
          86.18,
          85.22,
          85.78,
          86.2,
          85.78,
          86.26,
          86.07,
          85.87,
          81.75,
          86.2,
          85.51,
          84.46,
          85.17,
          85.19,
          85.21,
          86.34,
          84.84,
          84.72,
          84.94,
          84.98,
          86.16,
          86.19,
          85.54,
          86.25,
          85.31,
          84.8,
          84.79,
          86.2,
          85.13,
          85.53,
          85.53,
          85.26,
          85.43,
          86.05,
          86.3,
          86.24,
          86.07,
          86.19,
          84.68,
          86.29,
          86,
          86.26,
          86.28,
          86.18,
          85.51,
          86.2,
          86.16,
          81.47,
          85.93,
          86.25,
          85.08,
          85.14,
          84.98,
          85.46,
          86.32,
          86.33,
          85.26,
          85.99,
          86.04,
          86.03,
          86.26,
          86.07,
          84.88,
          85.87,
          86.24,
          86.06,
          85.31,
          85.85,
          86.14,
          84.89,
          85.48,
          86.26,
          86.09,
          86.12,
          84.7,
          86.17,
          84.84,
          84.84,
          86.08,
          86.25,
          86.2,
          86.31,
          85.84,
          86.15,
          85.82,
          86.04,
          85.35,
          86.14,
          86.08,
          86.09,
          86.07,
          86.17,
          86.25,
          86.07,
          86.11,
          86.19,
          86.15,
          85.7,
          86.25,
          86.18,
          86.17,
          86.47,
          85.92,
          86.29,
          84.82,
          86.16,
          85.3,
          86.01,
          86.12,
          86.21,
          86.23,
          85.94,
          86.11,
          86.17,
          84.91,
          86.41,
          86.04,
          86.45,
          86.36,
          86.23,
          86.21,
          85.85,
          86.12,
          85.97,
          85.88,
          86.04,
          86,
          86.2,
          86.16,
          86.24,
          86.11,
          86.05,
          86.29,
          86.03,
          85.95,
          86.31,
          84.9,
          85.83,
          85.94,
          86.04,
          86.17,
          86.24,
          86.17,
          85.75,
          85.86,
          85.25,
          86,
          85.56,
          86.67,
          85.96,
          85.2,
          85.91,
          86.04,
          85.41,
          85.58,
          85.88,
          85.46,
          85.16,
          85.19,
          85.26,
          84.68,
          85.05,
          86,
          86.03,
          85.16,
          85.16,
          85.21,
          85.99,
          86,
          85.87,
          85.86,
          86.23,
          84.8,
          85.93,
          84.83,
          84.94,
          85.72,
          84.87,
          85.73,
          85.04,
          85.11,
          84.76,
          85.74,
          85.5,
          86.01,
          86.28,
          85.73,
          85.98,
          85.32,
          85.33,
          85.95,
          85.87,
          85.99,
          85.3,
          85.87,
          85.34,
          84.83,
          86.09,
          84.8,
          85.14,
          85.52,
          85.63,
          84.89,
          85.37,
          84.93,
          85.55,
          84.78,
          85.8,
          86.09,
          85.49,
          85.88,
          85.17,
          84.65,
          85.76,
          85.83,
          85.51,
          85.2,
          85.1,
          85.03,
          85.89,
          85.86,
          85.23,
          85.29,
          85.55,
          85.12,
          85.76,
          85.74,
          85.73,
          85.12,
          85.91,
          85.81,
          85.43,
          85.55,
          85.55,
          85.02,
          86.06,
          85.5,
          85.87,
          85.3,
          85.97,
          85.63,
          85.16,
          84.73,
          84.97,
          85.97,
          85.15,
          86.05,
          85.95,
          85.6,
          85.12,
          85.28,
          85.34,
          86.07,
          85.25,
          85.02,
          85.8,
          84.99,
          86,
          85.96,
          84.82,
          85.83,
          85.56,
          84.71,
          85.35,
          85.56,
          86.05,
          85.94,
          85.8,
          85.16,
          85.98,
          85.27,
          85.91,
          85.17,
          85.53,
          85.83,
          85.29,
          85.64,
          85.56,
          85.16,
          85.9,
          85.25,
          85.9,
          85.32,
          85.16,
          85.2,
          84.71,
          86.05,
          85.4,
          85.28,
          85.5,
          85.85,
          85.8,
          85.16,
          85.6,
          85.33,
          85.63,
          84.95,
          86.09,
          84.86,
          85.84,
          85.71,
          86.02,
          85.75,
          85.65,
          84.72,
          85.8,
          84.75,
          83.99,
          81.92,
          82.18
         ],
         "name": "",
         "opacity": 0.8,
         "radius": 5,
         "subplot": "mapbox",
         "type": "densitymapbox"
        }
       ],
       "layout": {
        "coloraxis": {
         "colorscale": [
          [
           0,
           "#440154"
          ],
          [
           0.1111111111111111,
           "#482878"
          ],
          [
           0.2222222222222222,
           "#3e4989"
          ],
          [
           0.3333333333333333,
           "#31688e"
          ],
          [
           0.4444444444444444,
           "#26828e"
          ],
          [
           0.5555555555555556,
           "#1f9e89"
          ],
          [
           0.6666666666666666,
           "#35b779"
          ],
          [
           0.7777777777777778,
           "#6ece58"
          ],
          [
           0.8888888888888888,
           "#b5de2b"
          ],
          [
           1,
           "#fde725"
          ]
         ]
        },
        "legend": {
         "tracegroupgap": 0
        },
        "mapbox": {
         "center": {
          "lat": 28.23,
          "lon": 83.64
         },
         "domain": {
          "x": [
           0,
           1
          ],
          "y": [
           0,
           1
          ]
         },
         "style": "stamen-terrain",
         "zoom": 5.5
        },
        "template": {
         "data": {
          "bar": [
           {
            "error_x": {
             "color": "#2a3f5f"
            },
            "error_y": {
             "color": "#2a3f5f"
            },
            "marker": {
             "line": {
              "color": "#E5ECF6",
              "width": 0.5
             },
             "pattern": {
              "fillmode": "overlay",
              "size": 10,
              "solidity": 0.2
             }
            },
            "type": "bar"
           }
          ],
          "barpolar": [
           {
            "marker": {
             "line": {
              "color": "#E5ECF6",
              "width": 0.5
             },
             "pattern": {
              "fillmode": "overlay",
              "size": 10,
              "solidity": 0.2
             }
            },
            "type": "barpolar"
           }
          ],
          "carpet": [
           {
            "aaxis": {
             "endlinecolor": "#2a3f5f",
             "gridcolor": "white",
             "linecolor": "white",
             "minorgridcolor": "white",
             "startlinecolor": "#2a3f5f"
            },
            "baxis": {
             "endlinecolor": "#2a3f5f",
             "gridcolor": "white",
             "linecolor": "white",
             "minorgridcolor": "white",
             "startlinecolor": "#2a3f5f"
            },
            "type": "carpet"
           }
          ],
          "choropleth": [
           {
            "colorbar": {
             "outlinewidth": 0,
             "ticks": ""
            },
            "type": "choropleth"
           }
          ],
          "contour": [
           {
            "colorbar": {
             "outlinewidth": 0,
             "ticks": ""
            },
            "colorscale": [
             [
              0,
              "#0d0887"
             ],
             [
              0.1111111111111111,
              "#46039f"
             ],
             [
              0.2222222222222222,
              "#7201a8"
             ],
             [
              0.3333333333333333,
              "#9c179e"
             ],
             [
              0.4444444444444444,
              "#bd3786"
             ],
             [
              0.5555555555555556,
              "#d8576b"
             ],
             [
              0.6666666666666666,
              "#ed7953"
             ],
             [
              0.7777777777777778,
              "#fb9f3a"
             ],
             [
              0.8888888888888888,
              "#fdca26"
             ],
             [
              1,
              "#f0f921"
             ]
            ],
            "type": "contour"
           }
          ],
          "contourcarpet": [
           {
            "colorbar": {
             "outlinewidth": 0,
             "ticks": ""
            },
            "type": "contourcarpet"
           }
          ],
          "heatmap": [
           {
            "colorbar": {
             "outlinewidth": 0,
             "ticks": ""
            },
            "colorscale": [
             [
              0,
              "#0d0887"
             ],
             [
              0.1111111111111111,
              "#46039f"
             ],
             [
              0.2222222222222222,
              "#7201a8"
             ],
             [
              0.3333333333333333,
              "#9c179e"
             ],
             [
              0.4444444444444444,
              "#bd3786"
             ],
             [
              0.5555555555555556,
              "#d8576b"
             ],
             [
              0.6666666666666666,
              "#ed7953"
             ],
             [
              0.7777777777777778,
              "#fb9f3a"
             ],
             [
              0.8888888888888888,
              "#fdca26"
             ],
             [
              1,
              "#f0f921"
             ]
            ],
            "type": "heatmap"
           }
          ],
          "heatmapgl": [
           {
            "colorbar": {
             "outlinewidth": 0,
             "ticks": ""
            },
            "colorscale": [
             [
              0,
              "#0d0887"
             ],
             [
              0.1111111111111111,
              "#46039f"
             ],
             [
              0.2222222222222222,
              "#7201a8"
             ],
             [
              0.3333333333333333,
              "#9c179e"
             ],
             [
              0.4444444444444444,
              "#bd3786"
             ],
             [
              0.5555555555555556,
              "#d8576b"
             ],
             [
              0.6666666666666666,
              "#ed7953"
             ],
             [
              0.7777777777777778,
              "#fb9f3a"
             ],
             [
              0.8888888888888888,
              "#fdca26"
             ],
             [
              1,
              "#f0f921"
             ]
            ],
            "type": "heatmapgl"
           }
          ],
          "histogram": [
           {
            "marker": {
             "pattern": {
              "fillmode": "overlay",
              "size": 10,
              "solidity": 0.2
             }
            },
            "type": "histogram"
           }
          ],
          "histogram2d": [
           {
            "colorbar": {
             "outlinewidth": 0,
             "ticks": ""
            },
            "colorscale": [
             [
              0,
              "#0d0887"
             ],
             [
              0.1111111111111111,
              "#46039f"
             ],
             [
              0.2222222222222222,
              "#7201a8"
             ],
             [
              0.3333333333333333,
              "#9c179e"
             ],
             [
              0.4444444444444444,
              "#bd3786"
             ],
             [
              0.5555555555555556,
              "#d8576b"
             ],
             [
              0.6666666666666666,
              "#ed7953"
             ],
             [
              0.7777777777777778,
              "#fb9f3a"
             ],
             [
              0.8888888888888888,
              "#fdca26"
             ],
             [
              1,
              "#f0f921"
             ]
            ],
            "type": "histogram2d"
           }
          ],
          "histogram2dcontour": [
           {
            "colorbar": {
             "outlinewidth": 0,
             "ticks": ""
            },
            "colorscale": [
             [
              0,
              "#0d0887"
             ],
             [
              0.1111111111111111,
              "#46039f"
             ],
             [
              0.2222222222222222,
              "#7201a8"
             ],
             [
              0.3333333333333333,
              "#9c179e"
             ],
             [
              0.4444444444444444,
              "#bd3786"
             ],
             [
              0.5555555555555556,
              "#d8576b"
             ],
             [
              0.6666666666666666,
              "#ed7953"
             ],
             [
              0.7777777777777778,
              "#fb9f3a"
             ],
             [
              0.8888888888888888,
              "#fdca26"
             ],
             [
              1,
              "#f0f921"
             ]
            ],
            "type": "histogram2dcontour"
           }
          ],
          "mesh3d": [
           {
            "colorbar": {
             "outlinewidth": 0,
             "ticks": ""
            },
            "type": "mesh3d"
           }
          ],
          "parcoords": [
           {
            "line": {
             "colorbar": {
              "outlinewidth": 0,
              "ticks": ""
             }
            },
            "type": "parcoords"
           }
          ],
          "pie": [
           {
            "automargin": true,
            "type": "pie"
           }
          ],
          "scatter": [
           {
            "fillpattern": {
             "fillmode": "overlay",
             "size": 10,
             "solidity": 0.2
            },
            "type": "scatter"
           }
          ],
          "scatter3d": [
           {
            "line": {
             "colorbar": {
              "outlinewidth": 0,
              "ticks": ""
             }
            },
            "marker": {
             "colorbar": {
              "outlinewidth": 0,
              "ticks": ""
             }
            },
            "type": "scatter3d"
           }
          ],
          "scattercarpet": [
           {
            "marker": {
             "colorbar": {
              "outlinewidth": 0,
              "ticks": ""
             }
            },
            "type": "scattercarpet"
           }
          ],
          "scattergeo": [
           {
            "marker": {
             "colorbar": {
              "outlinewidth": 0,
              "ticks": ""
             }
            },
            "type": "scattergeo"
           }
          ],
          "scattergl": [
           {
            "marker": {
             "colorbar": {
              "outlinewidth": 0,
              "ticks": ""
             }
            },
            "type": "scattergl"
           }
          ],
          "scattermapbox": [
           {
            "marker": {
             "colorbar": {
              "outlinewidth": 0,
              "ticks": ""
             }
            },
            "type": "scattermapbox"
           }
          ],
          "scatterpolar": [
           {
            "marker": {
             "colorbar": {
              "outlinewidth": 0,
              "ticks": ""
             }
            },
            "type": "scatterpolar"
           }
          ],
          "scatterpolargl": [
           {
            "marker": {
             "colorbar": {
              "outlinewidth": 0,
              "ticks": ""
             }
            },
            "type": "scatterpolargl"
           }
          ],
          "scatterternary": [
           {
            "marker": {
             "colorbar": {
              "outlinewidth": 0,
              "ticks": ""
             }
            },
            "type": "scatterternary"
           }
          ],
          "surface": [
           {
            "colorbar": {
             "outlinewidth": 0,
             "ticks": ""
            },
            "colorscale": [
             [
              0,
              "#0d0887"
             ],
             [
              0.1111111111111111,
              "#46039f"
             ],
             [
              0.2222222222222222,
              "#7201a8"
             ],
             [
              0.3333333333333333,
              "#9c179e"
             ],
             [
              0.4444444444444444,
              "#bd3786"
             ],
             [
              0.5555555555555556,
              "#d8576b"
             ],
             [
              0.6666666666666666,
              "#ed7953"
             ],
             [
              0.7777777777777778,
              "#fb9f3a"
             ],
             [
              0.8888888888888888,
              "#fdca26"
             ],
             [
              1,
              "#f0f921"
             ]
            ],
            "type": "surface"
           }
          ],
          "table": [
           {
            "cells": {
             "fill": {
              "color": "#EBF0F8"
             },
             "line": {
              "color": "white"
             }
            },
            "header": {
             "fill": {
              "color": "#C8D4E3"
             },
             "line": {
              "color": "white"
             }
            },
            "type": "table"
           }
          ]
         },
         "layout": {
          "annotationdefaults": {
           "arrowcolor": "#2a3f5f",
           "arrowhead": 0,
           "arrowwidth": 1
          },
          "autotypenumbers": "strict",
          "coloraxis": {
           "colorbar": {
            "outlinewidth": 0,
            "ticks": ""
           }
          },
          "colorscale": {
           "diverging": [
            [
             0,
             "#8e0152"
            ],
            [
             0.1,
             "#c51b7d"
            ],
            [
             0.2,
             "#de77ae"
            ],
            [
             0.3,
             "#f1b6da"
            ],
            [
             0.4,
             "#fde0ef"
            ],
            [
             0.5,
             "#f7f7f7"
            ],
            [
             0.6,
             "#e6f5d0"
            ],
            [
             0.7,
             "#b8e186"
            ],
            [
             0.8,
             "#7fbc41"
            ],
            [
             0.9,
             "#4d9221"
            ],
            [
             1,
             "#276419"
            ]
           ],
           "sequential": [
            [
             0,
             "#0d0887"
            ],
            [
             0.1111111111111111,
             "#46039f"
            ],
            [
             0.2222222222222222,
             "#7201a8"
            ],
            [
             0.3333333333333333,
             "#9c179e"
            ],
            [
             0.4444444444444444,
             "#bd3786"
            ],
            [
             0.5555555555555556,
             "#d8576b"
            ],
            [
             0.6666666666666666,
             "#ed7953"
            ],
            [
             0.7777777777777778,
             "#fb9f3a"
            ],
            [
             0.8888888888888888,
             "#fdca26"
            ],
            [
             1,
             "#f0f921"
            ]
           ],
           "sequentialminus": [
            [
             0,
             "#0d0887"
            ],
            [
             0.1111111111111111,
             "#46039f"
            ],
            [
             0.2222222222222222,
             "#7201a8"
            ],
            [
             0.3333333333333333,
             "#9c179e"
            ],
            [
             0.4444444444444444,
             "#bd3786"
            ],
            [
             0.5555555555555556,
             "#d8576b"
            ],
            [
             0.6666666666666666,
             "#ed7953"
            ],
            [
             0.7777777777777778,
             "#fb9f3a"
            ],
            [
             0.8888888888888888,
             "#fdca26"
            ],
            [
             1,
             "#f0f921"
            ]
           ]
          },
          "colorway": [
           "#636efa",
           "#EF553B",
           "#00cc96",
           "#ab63fa",
           "#FFA15A",
           "#19d3f3",
           "#FF6692",
           "#B6E880",
           "#FF97FF",
           "#FECB52"
          ],
          "font": {
           "color": "#2a3f5f"
          },
          "geo": {
           "bgcolor": "white",
           "lakecolor": "white",
           "landcolor": "#E5ECF6",
           "showlakes": true,
           "showland": true,
           "subunitcolor": "white"
          },
          "hoverlabel": {
           "align": "left"
          },
          "hovermode": "closest",
          "mapbox": {
           "style": "light"
          },
          "paper_bgcolor": "white",
          "plot_bgcolor": "#E5ECF6",
          "polar": {
           "angularaxis": {
            "gridcolor": "white",
            "linecolor": "white",
            "ticks": ""
           },
           "bgcolor": "#E5ECF6",
           "radialaxis": {
            "gridcolor": "white",
            "linecolor": "white",
            "ticks": ""
           }
          },
          "scene": {
           "xaxis": {
            "backgroundcolor": "#E5ECF6",
            "gridcolor": "white",
            "gridwidth": 2,
            "linecolor": "white",
            "showbackground": true,
            "ticks": "",
            "zerolinecolor": "white"
           },
           "yaxis": {
            "backgroundcolor": "#E5ECF6",
            "gridcolor": "white",
            "gridwidth": 2,
            "linecolor": "white",
            "showbackground": true,
            "ticks": "",
            "zerolinecolor": "white"
           },
           "zaxis": {
            "backgroundcolor": "#E5ECF6",
            "gridcolor": "white",
            "gridwidth": 2,
            "linecolor": "white",
            "showbackground": true,
            "ticks": "",
            "zerolinecolor": "white"
           }
          },
          "shapedefaults": {
           "line": {
            "color": "#2a3f5f"
           }
          },
          "ternary": {
           "aaxis": {
            "gridcolor": "white",
            "linecolor": "white",
            "ticks": ""
           },
           "baxis": {
            "gridcolor": "white",
            "linecolor": "white",
            "ticks": ""
           },
           "bgcolor": "#E5ECF6",
           "caxis": {
            "gridcolor": "white",
            "linecolor": "white",
            "ticks": ""
           }
          },
          "title": {
           "x": 0.05
          },
          "xaxis": {
           "automargin": true,
           "gridcolor": "white",
           "linecolor": "white",
           "ticks": "",
           "title": {
            "standoff": 15
           },
           "zerolinecolor": "white",
           "zerolinewidth": 2
          },
          "yaxis": {
           "automargin": true,
           "gridcolor": "white",
           "linecolor": "white",
           "ticks": "",
           "title": {
            "standoff": 15
           },
           "zerolinecolor": "white",
           "zerolinewidth": 2
          }
         }
        },
        "title": {
         "text": "Earthquake Density Map in Nepal(2015 and after)"
        }
       }
      },
      "text/html": [
       "<div>                            <div id=\"ccee37d4-c504-4da3-969a-e76d14fc6854\" class=\"plotly-graph-div\" style=\"height:525px; width:100%;\"></div>            <script type=\"text/javascript\">                require([\"plotly\"], function(Plotly) {                    window.PLOTLYENV=window.PLOTLYENV || {};                                    if (document.getElementById(\"ccee37d4-c504-4da3-969a-e76d14fc6854\")) {                    Plotly.newPlot(                        \"ccee37d4-c504-4da3-969a-e76d14fc6854\",                        [{\"coloraxis\":\"coloraxis\",\"hovertemplate\":\"latitude=%{lat}<br>longitude=%{lon}<extra></extra>\",\"lat\":[28.43,29.75,28.15,29.78,29.72,29.66,29.68,28.62,29.73,29.78,29.89,29.74,29.78,29.75,29.38,28.17,27.76,28.12,27.86,29.42,29.64,28.95,29.29,27.57,27.82,27.08,29.68,27.83,28.8,29.71,27.42,29.64,29.75,27.8,28.45,28.36,28.45,29.1,30.0,28.26,26.93,29.35,29.45,29.35,29.38,29.38,29.38,29.6,28.07,28.15,28.24,27.97,27.83,27.16,27.94,29.41,29.82,27.66,28.1,28.33,27.7,29.61,27.3,27.31,29.35,29.58,27.9,29.7,27.9,27.98,28.68,27.67,27.87,28.29,27.86,27.85,27.92,27.92,28.18,27.91,27.92,27.71,27.91,29.89,27.64,29.61,26.98,27.28,28.98,28.13,29.79,27.3,28.24,28.27,28.27,28.26,28.26,28.28,26.75,27.5,27.79,27.89,27.78,28.78,27.66,29.89,27.66,27.66,27.77,27.75,27.73,29.58,27.62,27.77,26.76,27.92,27.58,29.59,27.8,27.88,27.85,29.73,27.65,27.55,29.58,28.01,28.34,27.79,29.71,29.61,29.59,29.58,27.95,27.79,29.42,30.2,28.45,29.66,26.88,27.82,28.66,30.0,28.28,27.71,28.25,28.15,28.21,29.8,30.3,27.52,27.69,28.5,27.8,27.67,27.95,28.95,29.52,29.62,29.5,27.7,28.21,27.85,28.98,27.94,27.93,27.7,27.69,28.0,29.49,28.03,27.76,28.98,27.63,27.84,27.66,27.68,27.81,27.09,27.6,27.85,27.72,28.94,28.93,28.94,28.57,27.79,27.5,27.66,27.94,27.75,29.02,27.82,29.57,28.11,27.87,27.31,27.36,29.68,27.68,28.17,28.9,29.98,27.74,27.7,27.7,28.07,27.72,29.82,27.96,27.63,29.78,29.08,28.5,28.83,27.62,28.06,29.41,27.66,27.56,28.94,27.34,27.66,27.88,27.62,29.64,27.86,29.75,30.37,27.38,27.36,27.79,29.88,27.73,29.71,27.79,29.69,27.87,28.04,27.66,27.67,27.65,27.91,27.78,27.82,29.81,27.99,27.84,27.92,28.31,29.64,29.63,29.63,27.76,27.93,28.03,27.96,27.94,27.73,27.93,27.97,27.69,28.01,28.01,28.24,29.38,29.54,28.05,28.08,27.79,27.72,27.56,27.65,27.72,29.81,27.93,27.89,27.75,27.34,27.84,27.83,27.9,30.22,27.69,27.79,27.8,27.47,28.08,27.86,27.81,27.84,27.95,26.68,27.83,28.06,27.65,27.63,27.48,27.75,28.01,27.86,27.7,29.35,27.79,29.44,28.04,27.86,27.78,27.11,27.63,27.87,28.15,27.87,28.43,28.35,27.77,27.89,28.02,27.99,28.03,27.8,27.71,27.96,27.57,27.68,27.69,27.71,27.71,27.77,29.83,27.74,27.76,27.6,27.82,27.75,27.64,27.92,27.92,27.72,27.66,27.85,28.12,30.11,27.68,27.87,27.96,28.0,27.93,27.71,27.87,27.59,27.72,27.7,28.14,30.1,27.94,27.69,27.77,27.5,27.86,27.63,27.64,27.81,27.66,27.59,27.68,27.8,27.94,27.85,27.68,27.61,27.66,27.7,27.86,28.18,29.8,27.63,28.06,27.8,27.89,27.6,27.92,29.69,28.48,27.96,27.69,27.86,27.67,27.73,27.67,27.97,27.8,28.06,27.71,27.55,27.35,27.93,27.92,27.92,27.74,27.58,27.94,27.66,27.78,27.85,27.67,27.8,28.17,28.65,28.26,28.14,28.27,27.9,27.91,27.68,27.7,27.87,27.74,27.8,27.73,28.21,27.67,27.67,27.96,27.8,27.87,27.62,27.8,27.87,27.9,28.26,27.58,27.7,27.79,27.76,27.84,27.7,27.76,27.79,30.0,27.78,27.98,28.29,27.79,28.01,27.75,27.82,28.01,28.17,28.07,28.0,27.59,27.59,27.94,27.77,27.64,27.95,27.99,27.59,28.04,27.89,27.91,28.02,27.54,27.71,27.63,27.84,27.71,27.74,28.01,27.8,27.84,27.76,27.76,27.67,27.9,27.74,27.69,30.31,27.78,27.63,28.05,27.79,28.02,27.93,27.85,27.84,27.52,27.9,27.92,27.66,27.69,27.71,28.11,27.48,27.84,27.73,27.45,27.7,27.64,28.13,27.97,27.6,27.66,27.65,28.07,27.74,27.92,27.93,27.69,27.63,27.61,27.92,27.84,27.83,27.8,27.71,28.06,27.75,27.67,27.62,27.66,27.68,27.84,27.79,27.69,27.79,27.7,27.64,27.75,27.65,27.63,27.82,27.85,27.85,27.91,27.6,27.68,27.7,27.8,27.69,27.68,27.88,27.79,27.66,28.1,27.58,27.68,27.97,28.03,27.84,27.73,27.78,27.82,27.72,27.89,27.7,27.71,27.72,27.62,27.76,27.73,27.69,27.57,27.68,27.8,27.76,28.16,27.8,27.8,27.68,27.63,27.69,27.84,27.91,27.99,28.02,27.88,27.65,26.94,28.04,28.04,27.75,27.69,28.01,27.94,27.77,27.92,27.79,27.75,28.04,28.01,28.06,27.96,27.74,27.8,27.79,27.97,27.69,27.74,27.75,27.95,27.79,28.12,27.69,27.94,28.05,28.09,27.98,27.89,28.08,27.8,28.24,27.72,27.93,27.66,27.74,27.95,27.7,28.04,28.04,27.75,27.88,27.74,27.68,27.92,28.05,27.93,27.65,28.19,27.79,27.95,27.93,27.86,28.04,28.29,27.96,28.2,27.76,27.81,28.1,27.88,27.78,28.1,27.89,27.83,27.92,27.75,28.26,28.19,27.82,27.93,28.24,27.67,27.67,27.77,27.82,27.57,27.56,27.8,27.77,27.97,27.71,27.94,27.91,28.26,27.83,28.04,27.95,27.67,27.65,27.64,27.8,28.32,28.31,27.72,27.79,27.84,27.68,27.89,27.84,27.67,28.05,27.67,27.69,27.99,27.82,27.98,27.79,27.6,28.24,28.25,27.93,28.14,28.05,27.93,27.94,27.75,27.87,28.29,27.78,28.1,28.34,27.78,27.9,27.77,27.8,27.92,27.95,28.14,27.73,28.05,27.73,27.68,27.79,28.1,28.16,27.82,28.0,28.14,27.91,27.86,27.87,28.29,28.0,27.91,27.65,28.18,27.6,27.9,27.78,27.99,27.69,28.2,28.13,28.28,28.41,28.24,28.4,28.8,28.85],\"lon\":[83.99,81.78,84.54,80.92,81.61,81.61,81.61,82.84,81.62,81.58,81.93,81.63,81.61,81.56,81.34,84.74,86.19,84.9,87.89,81.66,81.89,81.68,81.4,85.59,88.02,87.96,81.67,87.95,82.53,81.62,87.47,81.68,81.7,85.81,83.09,83.19,83.14,83.3,80.74,85.06,87.26,81.21,81.19,81.29,81.13,81.11,81.11,81.04,86.02,86.06,81.77,85.54,85.15,86.83,85.52,81.34,80.76,86.2,84.81,83.86,85.41,80.51,87.73,87.94,82.04,81.0,87.86,80.71,84.57,85.58,82.97,86.32,85.92,84.36,85.82,85.81,85.81,85.8,84.93,85.81,85.81,85.92,85.8,80.59,86.1,81.01,86.69,86.9,81.47,84.56,81.59,87.26,84.41,84.42,84.4,84.36,84.35,84.39,89.09,85.63,86.35,87.91,88.15,84.1,86.18,80.7,87.62,86.34,87.86,85.87,87.87,80.81,86.24,85.88,88.21,84.94,87.19,80.89,87.62,86.2,84.93,82.01,86.15,86.59,80.96,84.97,83.8,86.18,81.69,81.71,81.73,81.71,85.59,85.79,81.1,80.1,83.23,82.04,86.59,87.98,83.06,81.45,84.65,86.32,84.49,84.61,84.49,80.48,81.74,86.39,86.26,83.22,86.15,85.42,84.8,81.98,81.05,82.11,81.28,86.47,84.37,84.87,81.78,85.72,85.94,85.14,85.17,84.76,81.24,85.38,86.27,81.69,85.16,85.95,86.0,85.27,88.18,86.96,86.31,85.76,86.02,81.72,81.7,81.74,82.88,87.41,88.04,86.1,85.51,84.87,81.51,84.81,81.56,85.04,84.91,87.9,88.01,81.65,86.11,84.89,81.77,80.54,88.13,86.33,86.33,85.96,86.01,80.76,85.68,86.19,81.28,81.45,83.32,82.55,86.25,85.94,81.1,86.27,85.96,81.75,86.49,86.41,88.13,86.1,80.97,85.77,81.31,81.57,86.13,86.12,84.8,80.61,86.08,81.57,86.58,81.05,85.3,85.17,85.95,85.95,86.13,85.77,86.35,86.14,81.56,84.71,86.16,85.66,84.35,81.28,81.24,81.28,86.34,85.21,84.64,85.62,85.5,85.16,85.5,85.55,86.24,84.68,84.94,84.99,81.88,81.1,85.38,85.13,85.85,86.29,86.17,85.31,86.09,81.51,85.59,85.73,88.04,86.27,85.73,84.9,85.87,81.7,85.93,85.73,85.74,87.15,84.76,85.29,85.72,85.71,85.52,86.27,85.83,85.09,86.23,86.25,86.01,86.12,85.8,85.72,86.12,81.29,86.08,81.69,85.02,86.19,85.39,87.95,85.53,85.77,84.81,85.29,83.3,83.36,85.88,85.75,85.28,85.65,85.23,86.3,86.16,85.54,85.31,86.08,86.09,86.1,86.15,85.87,80.6,85.07,86.37,86.19,86.24,86.01,86.19,85.69,84.94,85.75,86.23,85.74,84.89,81.53,86.22,86.17,85.48,85.29,86.14,86.05,86.08,85.97,85.2,85.29,84.72,81.85,85.52,86.26,85.7,85.5,85.76,86.07,86.07,85.71,86.09,86.17,86.04,85.75,85.48,85.75,86.22,86.28,86.0,85.32,86.39,84.74,80.73,86.09,85.34,86.23,85.73,86.23,85.68,81.74,83.13,85.75,86.2,85.87,86.2,85.0,85.54,85.62,85.74,85.14,86.12,85.79,86.2,85.64,85.68,85.66,86.28,85.39,85.49,86.21,85.17,85.75,86.17,86.0,84.94,82.76,84.92,85.11,85.94,85.58,85.59,85.28,86.16,85.72,86.26,85.15,86.16,84.81,86.09,86.07,85.73,85.78,85.81,86.1,85.61,86.13,85.64,85.86,86.18,85.22,85.78,86.2,85.78,86.26,86.07,85.87,81.75,86.2,85.51,84.46,85.17,85.19,85.21,86.34,84.84,84.72,84.94,84.98,86.16,86.19,85.54,86.25,85.31,84.8,84.79,86.2,85.13,85.53,85.53,85.26,85.43,86.05,86.3,86.24,86.07,86.19,84.68,86.29,86.0,86.26,86.28,86.18,85.51,86.2,86.16,81.47,85.93,86.25,85.08,85.14,84.98,85.46,86.32,86.33,85.26,85.99,86.04,86.03,86.26,86.07,84.88,85.87,86.24,86.06,85.31,85.85,86.14,84.89,85.48,86.26,86.09,86.12,84.7,86.17,84.84,84.84,86.08,86.25,86.2,86.31,85.84,86.15,85.82,86.04,85.35,86.14,86.08,86.09,86.07,86.17,86.25,86.07,86.11,86.19,86.15,85.7,86.25,86.18,86.17,86.47,85.92,86.29,84.82,86.16,85.3,86.01,86.12,86.21,86.23,85.94,86.11,86.17,84.91,86.41,86.04,86.45,86.36,86.23,86.21,85.85,86.12,85.97,85.88,86.04,86.0,86.2,86.16,86.24,86.11,86.05,86.29,86.03,85.95,86.31,84.9,85.83,85.94,86.04,86.17,86.24,86.17,85.75,85.86,85.25,86.0,85.56,86.67,85.96,85.2,85.91,86.04,85.41,85.58,85.88,85.46,85.16,85.19,85.26,84.68,85.05,86.0,86.03,85.16,85.16,85.21,85.99,86.0,85.87,85.86,86.23,84.8,85.93,84.83,84.94,85.72,84.87,85.73,85.04,85.11,84.76,85.74,85.5,86.01,86.28,85.73,85.98,85.32,85.33,85.95,85.87,85.99,85.3,85.87,85.34,84.83,86.09,84.8,85.14,85.52,85.63,84.89,85.37,84.93,85.55,84.78,85.8,86.09,85.49,85.88,85.17,84.65,85.76,85.83,85.51,85.2,85.1,85.03,85.89,85.86,85.23,85.29,85.55,85.12,85.76,85.74,85.73,85.12,85.91,85.81,85.43,85.55,85.55,85.02,86.06,85.5,85.87,85.3,85.97,85.63,85.16,84.73,84.97,85.97,85.15,86.05,85.95,85.6,85.12,85.28,85.34,86.07,85.25,85.02,85.8,84.99,86.0,85.96,84.82,85.83,85.56,84.71,85.35,85.56,86.05,85.94,85.8,85.16,85.98,85.27,85.91,85.17,85.53,85.83,85.29,85.64,85.56,85.16,85.9,85.25,85.9,85.32,85.16,85.2,84.71,86.05,85.4,85.28,85.5,85.85,85.8,85.16,85.6,85.33,85.63,84.95,86.09,84.86,85.84,85.71,86.02,85.75,85.65,84.72,85.8,84.75,83.99,81.92,82.18],\"name\":\"\",\"opacity\":0.8,\"radius\":5,\"subplot\":\"mapbox\",\"type\":\"densitymapbox\"}],                        {\"template\":{\"data\":{\"histogram2dcontour\":[{\"type\":\"histogram2dcontour\",\"colorbar\":{\"outlinewidth\":0,\"ticks\":\"\"},\"colorscale\":[[0.0,\"#0d0887\"],[0.1111111111111111,\"#46039f\"],[0.2222222222222222,\"#7201a8\"],[0.3333333333333333,\"#9c179e\"],[0.4444444444444444,\"#bd3786\"],[0.5555555555555556,\"#d8576b\"],[0.6666666666666666,\"#ed7953\"],[0.7777777777777778,\"#fb9f3a\"],[0.8888888888888888,\"#fdca26\"],[1.0,\"#f0f921\"]]}],\"choropleth\":[{\"type\":\"choropleth\",\"colorbar\":{\"outlinewidth\":0,\"ticks\":\"\"}}],\"histogram2d\":[{\"type\":\"histogram2d\",\"colorbar\":{\"outlinewidth\":0,\"ticks\":\"\"},\"colorscale\":[[0.0,\"#0d0887\"],[0.1111111111111111,\"#46039f\"],[0.2222222222222222,\"#7201a8\"],[0.3333333333333333,\"#9c179e\"],[0.4444444444444444,\"#bd3786\"],[0.5555555555555556,\"#d8576b\"],[0.6666666666666666,\"#ed7953\"],[0.7777777777777778,\"#fb9f3a\"],[0.8888888888888888,\"#fdca26\"],[1.0,\"#f0f921\"]]}],\"heatmap\":[{\"type\":\"heatmap\",\"colorbar\":{\"outlinewidth\":0,\"ticks\":\"\"},\"colorscale\":[[0.0,\"#0d0887\"],[0.1111111111111111,\"#46039f\"],[0.2222222222222222,\"#7201a8\"],[0.3333333333333333,\"#9c179e\"],[0.4444444444444444,\"#bd3786\"],[0.5555555555555556,\"#d8576b\"],[0.6666666666666666,\"#ed7953\"],[0.7777777777777778,\"#fb9f3a\"],[0.8888888888888888,\"#fdca26\"],[1.0,\"#f0f921\"]]}],\"heatmapgl\":[{\"type\":\"heatmapgl\",\"colorbar\":{\"outlinewidth\":0,\"ticks\":\"\"},\"colorscale\":[[0.0,\"#0d0887\"],[0.1111111111111111,\"#46039f\"],[0.2222222222222222,\"#7201a8\"],[0.3333333333333333,\"#9c179e\"],[0.4444444444444444,\"#bd3786\"],[0.5555555555555556,\"#d8576b\"],[0.6666666666666666,\"#ed7953\"],[0.7777777777777778,\"#fb9f3a\"],[0.8888888888888888,\"#fdca26\"],[1.0,\"#f0f921\"]]}],\"contourcarpet\":[{\"type\":\"contourcarpet\",\"colorbar\":{\"outlinewidth\":0,\"ticks\":\"\"}}],\"contour\":[{\"type\":\"contour\",\"colorbar\":{\"outlinewidth\":0,\"ticks\":\"\"},\"colorscale\":[[0.0,\"#0d0887\"],[0.1111111111111111,\"#46039f\"],[0.2222222222222222,\"#7201a8\"],[0.3333333333333333,\"#9c179e\"],[0.4444444444444444,\"#bd3786\"],[0.5555555555555556,\"#d8576b\"],[0.6666666666666666,\"#ed7953\"],[0.7777777777777778,\"#fb9f3a\"],[0.8888888888888888,\"#fdca26\"],[1.0,\"#f0f921\"]]}],\"surface\":[{\"type\":\"surface\",\"colorbar\":{\"outlinewidth\":0,\"ticks\":\"\"},\"colorscale\":[[0.0,\"#0d0887\"],[0.1111111111111111,\"#46039f\"],[0.2222222222222222,\"#7201a8\"],[0.3333333333333333,\"#9c179e\"],[0.4444444444444444,\"#bd3786\"],[0.5555555555555556,\"#d8576b\"],[0.6666666666666666,\"#ed7953\"],[0.7777777777777778,\"#fb9f3a\"],[0.8888888888888888,\"#fdca26\"],[1.0,\"#f0f921\"]]}],\"mesh3d\":[{\"type\":\"mesh3d\",\"colorbar\":{\"outlinewidth\":0,\"ticks\":\"\"}}],\"scatter\":[{\"fillpattern\":{\"fillmode\":\"overlay\",\"size\":10,\"solidity\":0.2},\"type\":\"scatter\"}],\"parcoords\":[{\"type\":\"parcoords\",\"line\":{\"colorbar\":{\"outlinewidth\":0,\"ticks\":\"\"}}}],\"scatterpolargl\":[{\"type\":\"scatterpolargl\",\"marker\":{\"colorbar\":{\"outlinewidth\":0,\"ticks\":\"\"}}}],\"bar\":[{\"error_x\":{\"color\":\"#2a3f5f\"},\"error_y\":{\"color\":\"#2a3f5f\"},\"marker\":{\"line\":{\"color\":\"#E5ECF6\",\"width\":0.5},\"pattern\":{\"fillmode\":\"overlay\",\"size\":10,\"solidity\":0.2}},\"type\":\"bar\"}],\"scattergeo\":[{\"type\":\"scattergeo\",\"marker\":{\"colorbar\":{\"outlinewidth\":0,\"ticks\":\"\"}}}],\"scatterpolar\":[{\"type\":\"scatterpolar\",\"marker\":{\"colorbar\":{\"outlinewidth\":0,\"ticks\":\"\"}}}],\"histogram\":[{\"marker\":{\"pattern\":{\"fillmode\":\"overlay\",\"size\":10,\"solidity\":0.2}},\"type\":\"histogram\"}],\"scattergl\":[{\"type\":\"scattergl\",\"marker\":{\"colorbar\":{\"outlinewidth\":0,\"ticks\":\"\"}}}],\"scatter3d\":[{\"type\":\"scatter3d\",\"line\":{\"colorbar\":{\"outlinewidth\":0,\"ticks\":\"\"}},\"marker\":{\"colorbar\":{\"outlinewidth\":0,\"ticks\":\"\"}}}],\"scattermapbox\":[{\"type\":\"scattermapbox\",\"marker\":{\"colorbar\":{\"outlinewidth\":0,\"ticks\":\"\"}}}],\"scatterternary\":[{\"type\":\"scatterternary\",\"marker\":{\"colorbar\":{\"outlinewidth\":0,\"ticks\":\"\"}}}],\"scattercarpet\":[{\"type\":\"scattercarpet\",\"marker\":{\"colorbar\":{\"outlinewidth\":0,\"ticks\":\"\"}}}],\"carpet\":[{\"aaxis\":{\"endlinecolor\":\"#2a3f5f\",\"gridcolor\":\"white\",\"linecolor\":\"white\",\"minorgridcolor\":\"white\",\"startlinecolor\":\"#2a3f5f\"},\"baxis\":{\"endlinecolor\":\"#2a3f5f\",\"gridcolor\":\"white\",\"linecolor\":\"white\",\"minorgridcolor\":\"white\",\"startlinecolor\":\"#2a3f5f\"},\"type\":\"carpet\"}],\"table\":[{\"cells\":{\"fill\":{\"color\":\"#EBF0F8\"},\"line\":{\"color\":\"white\"}},\"header\":{\"fill\":{\"color\":\"#C8D4E3\"},\"line\":{\"color\":\"white\"}},\"type\":\"table\"}],\"barpolar\":[{\"marker\":{\"line\":{\"color\":\"#E5ECF6\",\"width\":0.5},\"pattern\":{\"fillmode\":\"overlay\",\"size\":10,\"solidity\":0.2}},\"type\":\"barpolar\"}],\"pie\":[{\"automargin\":true,\"type\":\"pie\"}]},\"layout\":{\"autotypenumbers\":\"strict\",\"colorway\":[\"#636efa\",\"#EF553B\",\"#00cc96\",\"#ab63fa\",\"#FFA15A\",\"#19d3f3\",\"#FF6692\",\"#B6E880\",\"#FF97FF\",\"#FECB52\"],\"font\":{\"color\":\"#2a3f5f\"},\"hovermode\":\"closest\",\"hoverlabel\":{\"align\":\"left\"},\"paper_bgcolor\":\"white\",\"plot_bgcolor\":\"#E5ECF6\",\"polar\":{\"bgcolor\":\"#E5ECF6\",\"angularaxis\":{\"gridcolor\":\"white\",\"linecolor\":\"white\",\"ticks\":\"\"},\"radialaxis\":{\"gridcolor\":\"white\",\"linecolor\":\"white\",\"ticks\":\"\"}},\"ternary\":{\"bgcolor\":\"#E5ECF6\",\"aaxis\":{\"gridcolor\":\"white\",\"linecolor\":\"white\",\"ticks\":\"\"},\"baxis\":{\"gridcolor\":\"white\",\"linecolor\":\"white\",\"ticks\":\"\"},\"caxis\":{\"gridcolor\":\"white\",\"linecolor\":\"white\",\"ticks\":\"\"}},\"coloraxis\":{\"colorbar\":{\"outlinewidth\":0,\"ticks\":\"\"}},\"colorscale\":{\"sequential\":[[0.0,\"#0d0887\"],[0.1111111111111111,\"#46039f\"],[0.2222222222222222,\"#7201a8\"],[0.3333333333333333,\"#9c179e\"],[0.4444444444444444,\"#bd3786\"],[0.5555555555555556,\"#d8576b\"],[0.6666666666666666,\"#ed7953\"],[0.7777777777777778,\"#fb9f3a\"],[0.8888888888888888,\"#fdca26\"],[1.0,\"#f0f921\"]],\"sequentialminus\":[[0.0,\"#0d0887\"],[0.1111111111111111,\"#46039f\"],[0.2222222222222222,\"#7201a8\"],[0.3333333333333333,\"#9c179e\"],[0.4444444444444444,\"#bd3786\"],[0.5555555555555556,\"#d8576b\"],[0.6666666666666666,\"#ed7953\"],[0.7777777777777778,\"#fb9f3a\"],[0.8888888888888888,\"#fdca26\"],[1.0,\"#f0f921\"]],\"diverging\":[[0,\"#8e0152\"],[0.1,\"#c51b7d\"],[0.2,\"#de77ae\"],[0.3,\"#f1b6da\"],[0.4,\"#fde0ef\"],[0.5,\"#f7f7f7\"],[0.6,\"#e6f5d0\"],[0.7,\"#b8e186\"],[0.8,\"#7fbc41\"],[0.9,\"#4d9221\"],[1,\"#276419\"]]},\"xaxis\":{\"gridcolor\":\"white\",\"linecolor\":\"white\",\"ticks\":\"\",\"title\":{\"standoff\":15},\"zerolinecolor\":\"white\",\"automargin\":true,\"zerolinewidth\":2},\"yaxis\":{\"gridcolor\":\"white\",\"linecolor\":\"white\",\"ticks\":\"\",\"title\":{\"standoff\":15},\"zerolinecolor\":\"white\",\"automargin\":true,\"zerolinewidth\":2},\"scene\":{\"xaxis\":{\"backgroundcolor\":\"#E5ECF6\",\"gridcolor\":\"white\",\"linecolor\":\"white\",\"showbackground\":true,\"ticks\":\"\",\"zerolinecolor\":\"white\",\"gridwidth\":2},\"yaxis\":{\"backgroundcolor\":\"#E5ECF6\",\"gridcolor\":\"white\",\"linecolor\":\"white\",\"showbackground\":true,\"ticks\":\"\",\"zerolinecolor\":\"white\",\"gridwidth\":2},\"zaxis\":{\"backgroundcolor\":\"#E5ECF6\",\"gridcolor\":\"white\",\"linecolor\":\"white\",\"showbackground\":true,\"ticks\":\"\",\"zerolinecolor\":\"white\",\"gridwidth\":2}},\"shapedefaults\":{\"line\":{\"color\":\"#2a3f5f\"}},\"annotationdefaults\":{\"arrowcolor\":\"#2a3f5f\",\"arrowhead\":0,\"arrowwidth\":1},\"geo\":{\"bgcolor\":\"white\",\"landcolor\":\"#E5ECF6\",\"subunitcolor\":\"white\",\"showland\":true,\"showlakes\":true,\"lakecolor\":\"white\"},\"title\":{\"x\":0.05},\"mapbox\":{\"style\":\"light\"}}},\"mapbox\":{\"domain\":{\"x\":[0.0,1.0],\"y\":[0.0,1.0]},\"center\":{\"lat\":28.23,\"lon\":83.64},\"zoom\":5.5,\"style\":\"stamen-terrain\"},\"coloraxis\":{\"colorscale\":[[0.0,\"#440154\"],[0.1111111111111111,\"#482878\"],[0.2222222222222222,\"#3e4989\"],[0.3333333333333333,\"#31688e\"],[0.4444444444444444,\"#26828e\"],[0.5555555555555556,\"#1f9e89\"],[0.6666666666666666,\"#35b779\"],[0.7777777777777778,\"#6ece58\"],[0.8888888888888888,\"#b5de2b\"],[1.0,\"#fde725\"]]},\"legend\":{\"tracegroupgap\":0},\"title\":{\"text\":\"Earthquake Density Map in Nepal(2015 and after)\"}},                        {\"responsive\": true}                    ).then(function(){\n",
       "                            \n",
       "var gd = document.getElementById('ccee37d4-c504-4da3-969a-e76d14fc6854');\n",
       "var x = new MutationObserver(function (mutations, observer) {{\n",
       "        var display = window.getComputedStyle(gd).display;\n",
       "        if (!display || display === 'none') {{\n",
       "            console.log([gd, 'removed!']);\n",
       "            Plotly.purge(gd);\n",
       "            observer.disconnect();\n",
       "        }}\n",
       "}});\n",
       "\n",
       "// Listen for the removal of the full notebook cells\n",
       "var notebookContainer = gd.closest('#notebook-container');\n",
       "if (notebookContainer) {{\n",
       "    x.observe(notebookContainer, {childList: true});\n",
       "}}\n",
       "\n",
       "// Listen for the clearing of the current output cell\n",
       "var outputEl = gd.closest('.output');\n",
       "if (outputEl) {{\n",
       "    x.observe(outputEl, {childList: true});\n",
       "}}\n",
       "\n",
       "                        })                };                });            </script>        </div>"
      ]
     },
     "metadata": {},
     "output_type": "display_data"
    }
   ],
   "source": [
    "fig.show()"
   ]
  },
  {
   "cell_type": "code",
   "execution_count": null,
   "id": "7cf25f12",
   "metadata": {},
   "outputs": [],
   "source": []
  }
 ],
 "metadata": {
  "kernelspec": {
   "display_name": "Python 3 (ipykernel)",
   "language": "python",
   "name": "python3"
  },
  "language_info": {
   "codemirror_mode": {
    "name": "ipython",
    "version": 3
   },
   "file_extension": ".py",
   "mimetype": "text/x-python",
   "name": "python",
   "nbconvert_exporter": "python",
   "pygments_lexer": "ipython3",
   "version": "3.10.9"
  }
 },
 "nbformat": 4,
 "nbformat_minor": 5
}
